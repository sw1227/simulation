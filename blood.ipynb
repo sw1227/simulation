{
 "cells": [
  {
   "cell_type": "markdown",
   "metadata": {},
   "source": [
    "# 血液型シミュレーション"
   ]
  },
  {
   "cell_type": "markdown",
   "metadata": {},
   "source": [
    "## 0. 知りたいこと\n",
    "- 各血液型(A, B, O, AB)の人口比はなぜ中途半端な数字で、国によってばらばらなのか？\n",
    "\n",
    "- 参考：\n",
    "[国別ABO式血液型割合](https://ja.wikipedia.org/wiki/ABO%E5%BC%8F%E8%A1%80%E6%B6%B2%E5%9E%8B#.E5.9B.BD.E5.88.A5ABO.E5.BC.8F.E8.A1.80.E6.B6.B2.E5.9E.8B.E5.89.B2.E5.90.88)\n",
    "\n",
    "- [ABO型における親子の理論的な血液型の組み合わせ](https://ja.wikipedia.org/wiki/ABO%E5%BC%8F%E8%A1%80%E6%B6%B2%E5%9E%8B#ABO.E5.9E.8B.E3.81.AB.E3.81.8A.E3.81.91.E3.82.8B.E8.A6.AA.E5.AD.90.E3.81.AE.E7.90.86.E8.AB.96.E7.9A.84.E3.81.AA.E8.A1.80.E6.B6.B2.E5.9E.8B.E3.81.AE.E7.B5.84.E3.81.BF.E5.90.88.E3.82.8F.E3.81.9B)\n",
    "がこれだけシンプルなら、高校生物のメンデルの法則の問題のように、25%みたいな数字が出てきそうなのに…"
   ]
  },
  {
   "cell_type": "markdown",
   "metadata": {},
   "source": [
    "## 1. やっていくこと\n",
    "- 各血液型の人口(割合)の時間変化を表現する微分方程式を立て、数値的に解いてみる\n",
    "- 平衡点に収束するのか、振動するのか\n",
    "- 平衡点があるとしたら、各国の血液型比もそれぞれ平衡点になっているのか\n",
    "- (TODO)：政治的なアレやグローバル化による民族の流入・流出が各国の血液型比に及ぼす/及ぼした影響を予測/説明できるか"
   ]
  },
  {
   "cell_type": "markdown",
   "metadata": {},
   "source": [
    "## 2. 前提\n",
    "男女それぞれを遺伝子型（AA, AO, BB, BO, OO, AB）で6種類に分類する。便宜的に遺伝子型の集合を$\\Omega = \\{AA, AO, BB, BO, OO, AB\\}$と表す。\n",
    "\n",
    "各遺伝子型を持つ男の人数を並べたベクトルを\n",
    "$$\\mathbf{v}^M = (n_{AA}^M, n_{AO}^M, n_{BB}^M, n_{BO}^M, n_{OO}^M, n_{AB}^M)$$\n",
    "\n",
    "各遺伝子型を持つ女の人数を並べたベクトルを\n",
    "$$\\mathbf{v}^F = (n_{AA}^F, n_{AO}^F, n_{BB}^F, n_{BO}^F, n_{OO}^F, n_{AB}^F)$$\n",
    "\n",
    "とする。また、各性別の合計人数を以下のように表す。\n",
    "\n",
    "$$\n",
    "N^M = \\sum_{i \\in \\Omega} n_i^M = sum(\\mathbf{v}^M)\n",
    "$$\n",
    "$$\n",
    "N^F = \\sum_{i \\in \\Omega} n_i^F = sum(\\mathbf{v}^F)\n",
    "$$\n",
    "全体の人数をNとすると\n",
    "$$\n",
    "N = N^M + N^F\n",
    "$$\n",
    "が成り立つ。\n",
    "\n",
    "\n",
    "各表現型A, B, O, ABを持つ人数を、\n",
    "$$\n",
    "\\begin{align*}\n",
    "N_{A} &= n_{AA}^M + n_{AO}^M + n_{AA}^F + n_{AO}^F \\\\\n",
    "N_{B} &= n_{BB}^M + n_{BO}^M + n_{BB}^F + n_{BO}^F \\\\\n",
    "N_{O} &= n_{OO}^M + n_{OO}^F \\\\\n",
    "N_{AB} &= n_{AB}^M + n_{AB}^F \\\\\n",
    "\\end{align*}\n",
    "$$\n",
    "と表す。"
   ]
  },
  {
   "cell_type": "markdown",
   "metadata": {},
   "source": [
    "## 3. 方程式\n",
    "### 3.1 単純に考えた場合\n",
    "先述の12個の変数\n",
    "$$n_{AA}^M, n_{AO}^M, n_{BB}^M, n_{BO}^M, n_{OO}^M, n_{AB}^M, n_{AA}^F, n_{AO}^F, n_{BB}^F, n_{BO}^F, n_{OO}^F, n_{AB}^F$$\n",
    "の時間変化を微分方程式として表現していく。\n",
    "\n",
    "例えば、$n_{AA}^M$の時間変化は\n",
    "$$\n",
    "\\frac{d n_{AA}^M}{dt} = - \\alpha \\: n_{AA}^M + \\beta \\: \\Bigl( \\bigcirc n_{AA}^M n_{AA}^F + \\bigcirc n_{AA}^M n_{AO}^F + ... +  \\bigcirc n_{AB}^M n_{AB}^F \\Bigr)\n",
    "$$\n",
    "のように表せる。\n",
    "\n",
    "ただし、\n",
    "$$\n",
    "\\begin{align*}\n",
    "\\alpha : 死亡率 \\\\\n",
    "\\beta : 出生率 \\\\\n",
    "\\end{align*}\n",
    "$$\n",
    "\n",
    "\n",
    "$\\beta$のかかった括弧内には$6 \\times 6 = 36$個の項があり、例えば$n_{AA}^M n_{AO}^F$ の前の$\\bigcirc$には、AAの父親とAOの母親からAAが生まれる確率（この場合0.5）の1/2（男に生まれる確率が1/2として）が入る。\n",
    "\n",
    "$\\beta$ は出会いの確率や出会った後に子供ができる確率を総合的に含んだパラメータであり、ここでは血液型による結婚率が変わらないこと（たとえばA型女性はA型よりもB型の男性に惹かれるという全体的な傾向はない）を仮定している。\n",
    "（cf. [SIRモデル](https://ja.wikipedia.org/wiki/SIR%E3%83%A2%E3%83%87%E3%83%AB)の$\\beta S(t) I(t) $の項）\n",
    "\n",
    "残りの11個の変数$n_{AA}^F,n_{AO}^M ..., n_{AB}^F$についても同様にして、12個の微分方程式を連立させる。\n",
    "\n",
    "### 3.2 二次形式(?)による簡略化\n",
    "上の式で $\\beta$ のかかった括弧内の36項はnについて二次の項なので、以下のように表すことができる。\n",
    "$$\n",
    "{\\mathbf{v}^M}^T {\\large M_{AA}} \\mathbf{v}^F = (n_{AA}^M, n_{AO}^M, n_{BB}^M, n_{BO}^M, n_{OO}^M, n_{AB}^M)^T {\\large M_{AA}} \\left(\n",
    "    \\begin{array}{ccc}\n",
    "      n_{AA}^F \\\\\n",
    "      n_{AO}^F \\\\\n",
    "      n_{BB}^F \\\\\n",
    "      n_{BO}^F \\\\\n",
    "      n_{OO}^F \\\\\n",
    "      n_{AB}^F \\\\\n",
    "    \\end{array}\n",
    "  \\right)\n",
    "$$\n",
    "ただし、 ${\\large M_{AA}}$ は $6 \\times 6$ 行列で、 $(i, j)$ 成分は $\\omega = [\"AA\", \"AO\", \"BB\", \"BO\", \"OO\", \"AB\"]$として、\n",
    "$\\omega [i]$ と $\\omega [j]$ の親から\"AA\"の子供が生まれる確率になっている $(i, j = 0, 1, ... , 5)$。わりと疎なはず。\n",
    "\n",
    "より一般には、${\\large M_{XY}} (XY \\in \\Omega)$ の $(i, j)$ 成分は$\\omega [i]$ と $\\omega [j]$ の親から\"XY\"の子供が生まれる確率。\n",
    "\n",
    "このような表現を用いれば、先ほどの式は\n",
    "$$\n",
    "\\frac{d n_{AA}^M}{dt} = - \\alpha \\: n_{AA}^M + \\frac{1}{2} \\beta \\: {\\mathbf{v}^M}^T {\\large M_{AA}} \\mathbf{v}^F\n",
    "$$\n",
    "AA以外も同様で、一般に $XY \\in \\Omega$ について\n",
    "$$\n",
    "\\frac{d n_{XY}^M}{dt} = - \\alpha \\: n_{XY}^M + \\frac{1}{2} \\beta \\: {\\mathbf{v}^M}^T {\\large M_{XY}} \\mathbf{v}^F\n",
    "$$\n",
    "Femaleについても同様に\n",
    "$$\n",
    "\\frac{d n_{XY}^F}{dt} = - \\alpha \\: n_{XY}^F + \\frac{1}{2} \\beta \\: {\\mathbf{v}^M}^T {\\large M_{XY}} \\mathbf{v}^F\n",
    "$$\n",
    "\n",
    "### 3.3 行列Mの性質\n",
    "定義より、${\\large M_{XY}} (XY \\in \\Omega)$ の $(i, j)$ 成分は$\\omega [i]$ と $\\omega [j]$ の親から\"XY\"の子供が生まれる確率。\n",
    "\n",
    "したがって${\\large M_{XY}} (XY \\in \\Omega)$ は対称行列である。\n",
    "\n",
    "### 3.4 全体の人数Nの変化\n",
    "上述のように、\n",
    "$$\n",
    "\\frac{d n_{XY}^M}{dt} = - \\alpha \\: n_{XY}^M + \\frac{1}{2} \\beta \\: {\\mathbf{v}^M}^T {\\large M_{XY}} \\mathbf{v}^F\n",
    "$$\n",
    "のような式が6つ、MをFにしたものも6つ、計12個の式が問題となる。\n",
    "これらを全て足しあわせた時に\n",
    "$$\n",
    "\\sum_{XY \\in \\Omega} M_{XY} = \\left(\n",
    "    \\begin{array}{ccc}\n",
    "      1 & 1 & 1 & 1 & 1 & 1 \\\\\n",
    "      1 & 1 & 1 & 1 & 1 & 1 \\\\\n",
    "      1 & 1 & 1 & 1 & 1 & 1 \\\\\n",
    "      1 & 1 & 1 & 1 & 1 & 1 \\\\\n",
    "      1 & 1 & 1 & 1 & 1 & 1 \\\\\n",
    "      1 & 1 & 1 & 1 & 1 & 1 \\\\\n",
    "    \\end{array}\n",
    "  \\right)\n",
    "$$\n",
    "となるはずであるから、\n",
    "$$\n",
    "\\frac{d N}{dt} = - \\alpha \\: N + \\beta \\: \\bigl( n_{AA}^M n_{AA}^F + n_{AA}^M n_{AO}^F + ... +  n_{AB}^M n_{AB}^F  \\bigr)\n",
    "$$\n",
    "ここで右辺第二項の括弧内は\n",
    "$$\n",
    "n_{AA}^M n_{AA}^F + n_{AA}^M n_{AO}^F + ... +  n_{AB}^M n_{AB}^F = (n_{AA}^M + ... + n_{AB}^M) \\times (n_{AA}^F + ... + n_{AB}^F)) = N^M \\: N^F\n",
    "$$\n",
    "であるから、合計Nの変化は\n",
    "$$\n",
    "\\frac{d N}{dt} = - \\alpha \\: N + \\beta \\: N^M \\: N^F\n",
    "$$\n",
    "右辺のNを$N^M$と$N^F$に分けてかくと\n",
    "$$\n",
    "\\frac{d N}{dt} = - \\alpha \\: (N^M + N^F) + \\beta \\: N^M \\: N^F\n",
    "$$\n",
    "**全体の人数が不変だと仮定**すると、右辺が0となることから\n",
    "$$\n",
    "\\frac{\\alpha}{\\beta} = \\frac{N^M \\: N^F}{N^M + N^F}\n",
    "$$\n",
    "さらに、**男女比が1:1だと仮定**すると$N^M = N^F = \\frac{1}{2} \\: N$となり\n",
    "$$\n",
    "\\frac{\\alpha}{\\beta} = \\frac{N}{4}\n",
    "$$\n",
    "\n",
    "### 3.5 パラメータの値\n",
    "$\\alpha$は寿命から定まる。$\\Delta t$が$1(day)$とすれば、寿命が$365 \\times 80(day)$であるから\n",
    "$$\n",
    "\\alpha = \\frac{1}{365 \\times 80}\n",
    "$$\n",
    "また、先ほどの式より\n",
    "$$\n",
    "\\frac{\\alpha}{\\beta} = \\frac{N}{4}\n",
    "$$\n",
    "であるから、全体の人数を1として正規化すれば\n",
    "$$\n",
    "\\beta = 4 \\: \\alpha\n",
    "$$\n",
    "として定まる。"
   ]
  },
  {
   "cell_type": "markdown",
   "metadata": {},
   "source": [
    "## 4. プログラム\n",
    "### 4.1 準備"
   ]
  },
  {
   "cell_type": "code",
   "execution_count": 1,
   "metadata": {
    "collapsed": true
   },
   "outputs": [],
   "source": [
    "# import\n",
    "import numpy as np\n",
    "import scipy.integrate as spi\n",
    "import matplotlib.pyplot as plt\n",
    "%matplotlib inline"
   ]
  },
  {
   "cell_type": "code",
   "execution_count": 2,
   "metadata": {
    "collapsed": true
   },
   "outputs": [],
   "source": [
    "# parameter\n",
    "alpha = 1.0 / (365 * 80)\n",
    "beta = 4 * alpha"
   ]
  },
  {
   "cell_type": "code",
   "execution_count": 3,
   "metadata": {
    "collapsed": false
   },
   "outputs": [
    {
     "name": "stdout",
     "output_type": "stream",
     "text": [
      "[ 0.08333333  0.08333333  0.08333333  0.08333333  0.08333333  0.08333333\n",
      "  0.08333333  0.08333333  0.08333333  0.08333333  0.08333333  0.08333333] 1.0\n"
     ]
    }
   ],
   "source": [
    "# genotype list\n",
    "genotype = [\"AA\", \"AO\", \"BB\", \"BO\", \"OO\", \"AB\"]\n",
    "# number of each genotype\n",
    "v_mf = np.ones(12) / 12. # male and female\n",
    "print v_mf, sum(v_mf)"
   ]
  },
  {
   "cell_type": "markdown",
   "metadata": {},
   "source": [
    "### 4.2 Mの作成"
   ]
  },
  {
   "cell_type": "code",
   "execution_count": 4,
   "metadata": {
    "collapsed": true
   },
   "outputs": [],
   "source": [
    "mat_list = np.array([np.zeros((6,6)) for _ in range(6)])"
   ]
  },
  {
   "cell_type": "markdown",
   "metadata": {},
   "source": [
    "mat_listのk番目は、genotypeのk番目を$XY$として、6次正方行列$M_{XY}$となる。\n",
    "\n",
    "その$(i, j)$ 成分は$genotype [i]$ と $genotype [j]$ の親から\"XY\"の子供が生まれる確率。"
   ]
  },
  {
   "cell_type": "code",
   "execution_count": 5,
   "metadata": {
    "collapsed": false
   },
   "outputs": [
    {
     "name": "stdout",
     "output_type": "stream",
     "text": [
      "遺伝子型AA, AAの子供が遺伝子型AAとなる確率：1.0\n",
      "遺伝子型AA, AAの子供が遺伝子型AOとなる確率：0.0\n",
      "遺伝子型AA, AAの子供が遺伝子型BBとなる確率：0.0\n",
      "遺伝子型AA, AAの子供が遺伝子型BOとなる確率：0.0\n",
      "遺伝子型AA, AAの子供が遺伝子型OOとなる確率：0.0\n",
      "遺伝子型AA, AAの子供が遺伝子型ABとなる確率：0.0\n",
      "遺伝子型AA, AOの子供が遺伝子型AAとなる確率：0.5\n",
      "遺伝子型AA, AOの子供が遺伝子型AOとなる確率：0.5\n",
      "遺伝子型AA, AOの子供が遺伝子型BBとなる確率：0.0\n",
      "遺伝子型AA, AOの子供が遺伝子型BOとなる確率：0.0\n",
      "遺伝子型AA, AOの子供が遺伝子型OOとなる確率：0.0\n",
      "遺伝子型AA, AOの子供が遺伝子型ABとなる確率：0.0\n",
      "遺伝子型AA, BBの子供が遺伝子型AAとなる確率：0.0\n",
      "遺伝子型AA, BBの子供が遺伝子型AOとなる確率：0.0\n",
      "遺伝子型AA, BBの子供が遺伝子型BBとなる確率：0.0\n",
      "遺伝子型AA, BBの子供が遺伝子型BOとなる確率：0.0\n",
      "遺伝子型AA, BBの子供が遺伝子型OOとなる確率：0.0\n",
      "遺伝子型AA, BBの子供が遺伝子型ABとなる確率：1.0\n",
      "遺伝子型AA, BOの子供が遺伝子型AAとなる確率：0.0\n",
      "遺伝子型AA, BOの子供が遺伝子型AOとなる確率：0.5\n",
      "遺伝子型AA, BOの子供が遺伝子型BBとなる確率：0.0\n",
      "遺伝子型AA, BOの子供が遺伝子型BOとなる確率：0.0\n",
      "遺伝子型AA, BOの子供が遺伝子型OOとなる確率：0.0\n",
      "遺伝子型AA, BOの子供が遺伝子型ABとなる確率：0.5\n",
      "遺伝子型AA, OOの子供が遺伝子型AAとなる確率：0.0\n",
      "遺伝子型AA, OOの子供が遺伝子型AOとなる確率：1.0\n",
      "遺伝子型AA, OOの子供が遺伝子型BBとなる確率：0.0\n",
      "遺伝子型AA, OOの子供が遺伝子型BOとなる確率：0.0\n",
      "遺伝子型AA, OOの子供が遺伝子型OOとなる確率：0.0\n",
      "遺伝子型AA, OOの子供が遺伝子型ABとなる確率：0.0\n",
      "遺伝子型AA, ABの子供が遺伝子型AAとなる確率：0.5\n",
      "遺伝子型AA, ABの子供が遺伝子型AOとなる確率：0.0\n",
      "遺伝子型AA, ABの子供が遺伝子型BBとなる確率：0.0\n",
      "遺伝子型AA, ABの子供が遺伝子型BOとなる確率：0.0\n",
      "遺伝子型AA, ABの子供が遺伝子型OOとなる確率：0.0\n",
      "遺伝子型AA, ABの子供が遺伝子型ABとなる確率：0.5\n",
      "遺伝子型AO, AAの子供が遺伝子型AAとなる確率：0.5\n",
      "遺伝子型AO, AAの子供が遺伝子型AOとなる確率：0.5\n",
      "遺伝子型AO, AAの子供が遺伝子型BBとなる確率：0.0\n",
      "遺伝子型AO, AAの子供が遺伝子型BOとなる確率：0.0\n",
      "遺伝子型AO, AAの子供が遺伝子型OOとなる確率：0.0\n",
      "遺伝子型AO, AAの子供が遺伝子型ABとなる確率：0.0\n",
      "遺伝子型AO, AOの子供が遺伝子型AAとなる確率：0.25\n",
      "遺伝子型AO, AOの子供が遺伝子型AOとなる確率：0.5\n",
      "遺伝子型AO, AOの子供が遺伝子型BBとなる確率：0.0\n",
      "遺伝子型AO, AOの子供が遺伝子型BOとなる確率：0.0\n",
      "遺伝子型AO, AOの子供が遺伝子型OOとなる確率：0.25\n",
      "遺伝子型AO, AOの子供が遺伝子型ABとなる確率：0.0\n",
      "遺伝子型AO, BBの子供が遺伝子型AAとなる確率：0.0\n",
      "遺伝子型AO, BBの子供が遺伝子型AOとなる確率：0.0\n",
      "遺伝子型AO, BBの子供が遺伝子型BBとなる確率：0.0\n",
      "遺伝子型AO, BBの子供が遺伝子型BOとなる確率：0.5\n",
      "遺伝子型AO, BBの子供が遺伝子型OOとなる確率：0.0\n",
      "遺伝子型AO, BBの子供が遺伝子型ABとなる確率：0.5\n",
      "遺伝子型AO, BOの子供が遺伝子型AAとなる確率：0.0\n",
      "遺伝子型AO, BOの子供が遺伝子型AOとなる確率：0.25\n",
      "遺伝子型AO, BOの子供が遺伝子型BBとなる確率：0.0\n",
      "遺伝子型AO, BOの子供が遺伝子型BOとなる確率：0.25\n",
      "遺伝子型AO, BOの子供が遺伝子型OOとなる確率：0.25\n",
      "遺伝子型AO, BOの子供が遺伝子型ABとなる確率：0.25\n",
      "遺伝子型AO, OOの子供が遺伝子型AAとなる確率：0.0\n",
      "遺伝子型AO, OOの子供が遺伝子型AOとなる確率：0.5\n",
      "遺伝子型AO, OOの子供が遺伝子型BBとなる確率：0.0\n",
      "遺伝子型AO, OOの子供が遺伝子型BOとなる確率：0.0\n",
      "遺伝子型AO, OOの子供が遺伝子型OOとなる確率：0.5\n",
      "遺伝子型AO, OOの子供が遺伝子型ABとなる確率：0.0\n",
      "遺伝子型AO, ABの子供が遺伝子型AAとなる確率：0.25\n",
      "遺伝子型AO, ABの子供が遺伝子型AOとなる確率：0.25\n",
      "遺伝子型AO, ABの子供が遺伝子型BBとなる確率：0.0\n",
      "遺伝子型AO, ABの子供が遺伝子型BOとなる確率：0.25\n",
      "遺伝子型AO, ABの子供が遺伝子型OOとなる確率：0.0\n",
      "遺伝子型AO, ABの子供が遺伝子型ABとなる確率：0.25\n",
      "遺伝子型BB, AAの子供が遺伝子型AAとなる確率：0.0\n",
      "遺伝子型BB, AAの子供が遺伝子型AOとなる確率：0.0\n",
      "遺伝子型BB, AAの子供が遺伝子型BBとなる確率：0.0\n",
      "遺伝子型BB, AAの子供が遺伝子型BOとなる確率：0.0\n",
      "遺伝子型BB, AAの子供が遺伝子型OOとなる確率：0.0\n",
      "遺伝子型BB, AAの子供が遺伝子型ABとなる確率：1.0\n",
      "遺伝子型BB, AOの子供が遺伝子型AAとなる確率：0.0\n",
      "遺伝子型BB, AOの子供が遺伝子型AOとなる確率：0.0\n",
      "遺伝子型BB, AOの子供が遺伝子型BBとなる確率：0.0\n",
      "遺伝子型BB, AOの子供が遺伝子型BOとなる確率：0.5\n",
      "遺伝子型BB, AOの子供が遺伝子型OOとなる確率：0.0\n",
      "遺伝子型BB, AOの子供が遺伝子型ABとなる確率：0.5\n",
      "遺伝子型BB, BBの子供が遺伝子型AAとなる確率：0.0\n",
      "遺伝子型BB, BBの子供が遺伝子型AOとなる確率：0.0\n",
      "遺伝子型BB, BBの子供が遺伝子型BBとなる確率：1.0\n",
      "遺伝子型BB, BBの子供が遺伝子型BOとなる確率：0.0\n",
      "遺伝子型BB, BBの子供が遺伝子型OOとなる確率：0.0\n",
      "遺伝子型BB, BBの子供が遺伝子型ABとなる確率：0.0\n",
      "遺伝子型BB, BOの子供が遺伝子型AAとなる確率：0.0\n",
      "遺伝子型BB, BOの子供が遺伝子型AOとなる確率：0.0\n",
      "遺伝子型BB, BOの子供が遺伝子型BBとなる確率：0.5\n",
      "遺伝子型BB, BOの子供が遺伝子型BOとなる確率：0.5\n",
      "遺伝子型BB, BOの子供が遺伝子型OOとなる確率：0.0\n",
      "遺伝子型BB, BOの子供が遺伝子型ABとなる確率：0.0\n",
      "遺伝子型BB, OOの子供が遺伝子型AAとなる確率：0.0\n",
      "遺伝子型BB, OOの子供が遺伝子型AOとなる確率：0.0\n",
      "遺伝子型BB, OOの子供が遺伝子型BBとなる確率：0.0\n",
      "遺伝子型BB, OOの子供が遺伝子型BOとなる確率：1.0\n",
      "遺伝子型BB, OOの子供が遺伝子型OOとなる確率：0.0\n",
      "遺伝子型BB, OOの子供が遺伝子型ABとなる確率：0.0\n",
      "遺伝子型BB, ABの子供が遺伝子型AAとなる確率：0.0\n",
      "遺伝子型BB, ABの子供が遺伝子型AOとなる確率：0.0\n",
      "遺伝子型BB, ABの子供が遺伝子型BBとなる確率：0.5\n",
      "遺伝子型BB, ABの子供が遺伝子型BOとなる確率：0.0\n",
      "遺伝子型BB, ABの子供が遺伝子型OOとなる確率：0.0\n",
      "遺伝子型BB, ABの子供が遺伝子型ABとなる確率：0.5\n",
      "遺伝子型BO, AAの子供が遺伝子型AAとなる確率：0.0\n",
      "遺伝子型BO, AAの子供が遺伝子型AOとなる確率：0.5\n",
      "遺伝子型BO, AAの子供が遺伝子型BBとなる確率：0.0\n",
      "遺伝子型BO, AAの子供が遺伝子型BOとなる確率：0.0\n",
      "遺伝子型BO, AAの子供が遺伝子型OOとなる確率：0.0\n",
      "遺伝子型BO, AAの子供が遺伝子型ABとなる確率：0.5\n",
      "遺伝子型BO, AOの子供が遺伝子型AAとなる確率：0.0\n",
      "遺伝子型BO, AOの子供が遺伝子型AOとなる確率：0.25\n",
      "遺伝子型BO, AOの子供が遺伝子型BBとなる確率：0.0\n",
      "遺伝子型BO, AOの子供が遺伝子型BOとなる確率：0.25\n",
      "遺伝子型BO, AOの子供が遺伝子型OOとなる確率：0.25\n",
      "遺伝子型BO, AOの子供が遺伝子型ABとなる確率：0.25\n",
      "遺伝子型BO, BBの子供が遺伝子型AAとなる確率：0.0\n",
      "遺伝子型BO, BBの子供が遺伝子型AOとなる確率：0.0\n",
      "遺伝子型BO, BBの子供が遺伝子型BBとなる確率：0.5\n",
      "遺伝子型BO, BBの子供が遺伝子型BOとなる確率：0.5\n",
      "遺伝子型BO, BBの子供が遺伝子型OOとなる確率：0.0\n",
      "遺伝子型BO, BBの子供が遺伝子型ABとなる確率：0.0\n",
      "遺伝子型BO, BOの子供が遺伝子型AAとなる確率：0.0\n",
      "遺伝子型BO, BOの子供が遺伝子型AOとなる確率：0.0\n",
      "遺伝子型BO, BOの子供が遺伝子型BBとなる確率：0.25\n",
      "遺伝子型BO, BOの子供が遺伝子型BOとなる確率：0.5\n",
      "遺伝子型BO, BOの子供が遺伝子型OOとなる確率：0.25\n",
      "遺伝子型BO, BOの子供が遺伝子型ABとなる確率：0.0\n",
      "遺伝子型BO, OOの子供が遺伝子型AAとなる確率：0.0\n",
      "遺伝子型BO, OOの子供が遺伝子型AOとなる確率：0.0\n",
      "遺伝子型BO, OOの子供が遺伝子型BBとなる確率：0.0\n",
      "遺伝子型BO, OOの子供が遺伝子型BOとなる確率：0.5\n",
      "遺伝子型BO, OOの子供が遺伝子型OOとなる確率：0.5\n",
      "遺伝子型BO, OOの子供が遺伝子型ABとなる確率：0.0\n",
      "遺伝子型BO, ABの子供が遺伝子型AAとなる確率：0.0\n",
      "遺伝子型BO, ABの子供が遺伝子型AOとなる確率：0.25\n",
      "遺伝子型BO, ABの子供が遺伝子型BBとなる確率：0.25\n",
      "遺伝子型BO, ABの子供が遺伝子型BOとなる確率：0.25\n",
      "遺伝子型BO, ABの子供が遺伝子型OOとなる確率：0.0\n",
      "遺伝子型BO, ABの子供が遺伝子型ABとなる確率：0.25\n",
      "遺伝子型OO, AAの子供が遺伝子型AAとなる確率：0.0\n",
      "遺伝子型OO, AAの子供が遺伝子型AOとなる確率：1.0\n",
      "遺伝子型OO, AAの子供が遺伝子型BBとなる確率：0.0\n",
      "遺伝子型OO, AAの子供が遺伝子型BOとなる確率：0.0\n",
      "遺伝子型OO, AAの子供が遺伝子型OOとなる確率：0.0\n",
      "遺伝子型OO, AAの子供が遺伝子型ABとなる確率：0.0\n",
      "遺伝子型OO, AOの子供が遺伝子型AAとなる確率：0.0\n",
      "遺伝子型OO, AOの子供が遺伝子型AOとなる確率：0.5\n",
      "遺伝子型OO, AOの子供が遺伝子型BBとなる確率：0.0\n",
      "遺伝子型OO, AOの子供が遺伝子型BOとなる確率：0.0\n",
      "遺伝子型OO, AOの子供が遺伝子型OOとなる確率：0.5\n",
      "遺伝子型OO, AOの子供が遺伝子型ABとなる確率：0.0\n",
      "遺伝子型OO, BBの子供が遺伝子型AAとなる確率：0.0\n",
      "遺伝子型OO, BBの子供が遺伝子型AOとなる確率：0.0\n",
      "遺伝子型OO, BBの子供が遺伝子型BBとなる確率：0.0\n",
      "遺伝子型OO, BBの子供が遺伝子型BOとなる確率：1.0\n",
      "遺伝子型OO, BBの子供が遺伝子型OOとなる確率：0.0\n",
      "遺伝子型OO, BBの子供が遺伝子型ABとなる確率：0.0\n",
      "遺伝子型OO, BOの子供が遺伝子型AAとなる確率：0.0\n",
      "遺伝子型OO, BOの子供が遺伝子型AOとなる確率：0.0\n",
      "遺伝子型OO, BOの子供が遺伝子型BBとなる確率：0.0\n",
      "遺伝子型OO, BOの子供が遺伝子型BOとなる確率：0.5\n",
      "遺伝子型OO, BOの子供が遺伝子型OOとなる確率：0.5\n",
      "遺伝子型OO, BOの子供が遺伝子型ABとなる確率：0.0\n",
      "遺伝子型OO, OOの子供が遺伝子型AAとなる確率：0.0\n",
      "遺伝子型OO, OOの子供が遺伝子型AOとなる確率：0.0\n",
      "遺伝子型OO, OOの子供が遺伝子型BBとなる確率：0.0\n",
      "遺伝子型OO, OOの子供が遺伝子型BOとなる確率：0.0\n",
      "遺伝子型OO, OOの子供が遺伝子型OOとなる確率：1.0\n",
      "遺伝子型OO, OOの子供が遺伝子型ABとなる確率：0.0\n",
      "遺伝子型OO, ABの子供が遺伝子型AAとなる確率：0.0\n",
      "遺伝子型OO, ABの子供が遺伝子型AOとなる確率：0.5\n",
      "遺伝子型OO, ABの子供が遺伝子型BBとなる確率：0.0\n",
      "遺伝子型OO, ABの子供が遺伝子型BOとなる確率：0.5\n",
      "遺伝子型OO, ABの子供が遺伝子型OOとなる確率：0.0\n",
      "遺伝子型OO, ABの子供が遺伝子型ABとなる確率：0.0\n",
      "遺伝子型AB, AAの子供が遺伝子型AAとなる確率：0.5\n",
      "遺伝子型AB, AAの子供が遺伝子型AOとなる確率：0.0\n",
      "遺伝子型AB, AAの子供が遺伝子型BBとなる確率：0.0\n",
      "遺伝子型AB, AAの子供が遺伝子型BOとなる確率：0.0\n",
      "遺伝子型AB, AAの子供が遺伝子型OOとなる確率：0.0\n",
      "遺伝子型AB, AAの子供が遺伝子型ABとなる確率：0.5\n",
      "遺伝子型AB, AOの子供が遺伝子型AAとなる確率：0.25\n",
      "遺伝子型AB, AOの子供が遺伝子型AOとなる確率：0.25\n",
      "遺伝子型AB, AOの子供が遺伝子型BBとなる確率：0.0\n",
      "遺伝子型AB, AOの子供が遺伝子型BOとなる確率：0.25\n",
      "遺伝子型AB, AOの子供が遺伝子型OOとなる確率：0.0\n",
      "遺伝子型AB, AOの子供が遺伝子型ABとなる確率：0.25\n",
      "遺伝子型AB, BBの子供が遺伝子型AAとなる確率：0.0\n",
      "遺伝子型AB, BBの子供が遺伝子型AOとなる確率：0.0\n",
      "遺伝子型AB, BBの子供が遺伝子型BBとなる確率：0.5\n",
      "遺伝子型AB, BBの子供が遺伝子型BOとなる確率：0.0\n",
      "遺伝子型AB, BBの子供が遺伝子型OOとなる確率：0.0\n",
      "遺伝子型AB, BBの子供が遺伝子型ABとなる確率：0.5\n",
      "遺伝子型AB, BOの子供が遺伝子型AAとなる確率：0.0\n",
      "遺伝子型AB, BOの子供が遺伝子型AOとなる確率：0.25\n",
      "遺伝子型AB, BOの子供が遺伝子型BBとなる確率：0.25\n",
      "遺伝子型AB, BOの子供が遺伝子型BOとなる確率：0.25\n",
      "遺伝子型AB, BOの子供が遺伝子型OOとなる確率：0.0\n",
      "遺伝子型AB, BOの子供が遺伝子型ABとなる確率：0.25\n",
      "遺伝子型AB, OOの子供が遺伝子型AAとなる確率：0.0\n",
      "遺伝子型AB, OOの子供が遺伝子型AOとなる確率：0.5\n",
      "遺伝子型AB, OOの子供が遺伝子型BBとなる確率：0.0\n",
      "遺伝子型AB, OOの子供が遺伝子型BOとなる確率：0.5\n",
      "遺伝子型AB, OOの子供が遺伝子型OOとなる確率：0.0\n",
      "遺伝子型AB, OOの子供が遺伝子型ABとなる確率：0.0\n",
      "遺伝子型AB, ABの子供が遺伝子型AAとなる確率：0.25\n",
      "遺伝子型AB, ABの子供が遺伝子型AOとなる確率：0.0\n",
      "遺伝子型AB, ABの子供が遺伝子型BBとなる確率：0.25\n",
      "遺伝子型AB, ABの子供が遺伝子型BOとなる確率：0.0\n",
      "遺伝子型AB, ABの子供が遺伝子型OOとなる確率：0.0\n",
      "遺伝子型AB, ABの子供が遺伝子型ABとなる確率：0.5\n"
     ]
    }
   ],
   "source": [
    "def calc_prob(p1, p2, c):\n",
    "    \"\"\" p1とp2から子供cが生まれる確率を計算。p1, p2, cはgenotypeの要素であるとする。 \"\"\"\n",
    "    l = [p1[0]+p2[0], p1[0]+p2[1], p1[1]+p2[0], p1[1]+p2[1]]\n",
    "    count = 0\n",
    "    for t in l:\n",
    "        if (t == c) or (t == c[::-1]):\n",
    "            count += 1\n",
    "    return count / 4.\n",
    "\n",
    "for i in range(6):\n",
    "    for j in range(6):\n",
    "        for k in range(6):\n",
    "            print \"遺伝子型{0}, {1}の子供が遺伝子型{2}となる確率：{3}\".format(genotype[i],genotype[j], genotype[k],\n",
    "                                                            calc_prob(genotype[i], genotype[j], genotype[k]))"
   ]
  },
  {
   "cell_type": "code",
   "execution_count": 20,
   "metadata": {
    "collapsed": false
   },
   "outputs": [
    {
     "data": {
      "text/plain": [
       "array([[ 1.  ,  0.5 ,  0.  ,  0.  ,  0.  ,  0.5 ],\n",
       "       [ 0.5 ,  0.25,  0.  ,  0.  ,  0.  ,  0.25],\n",
       "       [ 0.  ,  0.  ,  0.  ,  0.  ,  0.  ,  0.  ],\n",
       "       [ 0.  ,  0.  ,  0.  ,  0.  ,  0.  ,  0.  ],\n",
       "       [ 0.  ,  0.  ,  0.  ,  0.  ,  0.  ,  0.  ],\n",
       "       [ 0.5 ,  0.25,  0.  ,  0.  ,  0.  ,  0.25]])"
      ]
     },
     "execution_count": 20,
     "metadata": {},
     "output_type": "execute_result"
    }
   ],
   "source": [
    "for t in range(len(genotype)):\n",
    "    for i in range(len(mat_list[0])):\n",
    "        for j in range(len(mat_list[0][0])):\n",
    "            mat_list[t][i][j] = calc_prob(genotype[i], genotype[j], genotype[t])\n",
    "\n",
    "for m in mat_list:\n",
    "    assert (m == m.T).all()\n",
    "assert (sum(mat_list) == np.ones((6,6))).all()\n",
    "\n",
    "mat_list[0]"
   ]
  },
  {
   "cell_type": "markdown",
   "metadata": {},
   "source": [
    "### 4.3 方程式\n",
    "現在のベクトル$\\mathbf{v_{mf}}(t_0)$ と時刻 $t_0$ を受け取り、時間微分$\\dot{\\mathbf{v_{mf}}}(t_0)$を返す関数$f$を作る\n",
    "$$\n",
    "\\frac{d n_{XY}^M}{dt} = - \\alpha \\: n_{XY}^M + \\frac{1}{2} \\beta \\: {\\mathbf{v}^M}^T {\\large M_{XY}} \\mathbf{v}^F\n",
    "$$\n",
    "$$\n",
    "\\frac{d n_{XY}^F}{dt} = - \\alpha \\: n_{XY}^F + \\frac{1}{2} \\beta \\: {\\mathbf{v}^M}^T {\\large M_{XY}} \\mathbf{v}^F\n",
    "$$"
   ]
  },
  {
   "cell_type": "code",
   "execution_count": 21,
   "metadata": {
    "collapsed": false
   },
   "outputs": [
    {
     "name": "stdout",
     "output_type": "stream",
     "text": [
      "0 AA\n",
      "1 AO\n",
      "2 BB\n",
      "3 BO\n",
      "4 OO\n",
      "5 AB\n"
     ]
    }
   ],
   "source": [
    "for i,g  in enumerate(genotype):\n",
    "    print i, g"
   ]
  },
  {
   "cell_type": "code",
   "execution_count": 22,
   "metadata": {
    "collapsed": false
   },
   "outputs": [
    {
     "name": "stdout",
     "output_type": "stream",
     "text": [
      "[ 0.12605001  0.12600011  0.09809543  0.03412854  0.03890566  0.07682025] [ 0.12930889  0.05809463  0.06111361  0.03397161  0.09515444  0.12235682]\n",
      "0.0499353849368\n"
     ]
    }
   ],
   "source": [
    "print v_mf[:6], v_mf[6:]\n",
    "print np.dot(np.dot(v_mf[0:6], mat_list[0]), v_mf[6:12])"
   ]
  },
  {
   "cell_type": "code",
   "execution_count": 23,
   "metadata": {
    "collapsed": true
   },
   "outputs": [],
   "source": [
    "def f(v, t0, alpha, beta):\n",
    "    ret = - alpha * v\n",
    "    # v[0] to v[5]: male, v[6] to v[11]: female\n",
    "    for i in range(len(genotype)):\n",
    "        ret[i] += 0.5 * beta * np.dot(np.dot(v[:6], mat_list[i]), v[6:])\n",
    "        ret[i+6] += 0.5 * beta * np.dot(np.dot(v[:6], mat_list[i]), v[6:])\n",
    "    \n",
    "    return ret"
   ]
  },
  {
   "cell_type": "code",
   "execution_count": 24,
   "metadata": {
    "collapsed": false
   },
   "outputs": [
    {
     "data": {
      "text/plain": [
       "array([ -8.96549261e-07,  -3.26539498e-07,  -1.89444137e-06,\n",
       "         1.45121644e-06,  -1.81900584e-07,   1.84821427e-06,\n",
       "        -1.00815489e-06,   1.99899081e-06,  -6.27940701e-07,\n",
       "         1.45659070e-06,  -2.10822865e-06,   2.88742720e-07])"
      ]
     },
     "execution_count": 24,
     "metadata": {},
     "output_type": "execute_result"
    }
   ],
   "source": [
    "f(v_mf, 1, alpha, beta)"
   ]
  },
  {
   "cell_type": "markdown",
   "metadata": {},
   "source": [
    "### 4.4 時間変化をプロット"
   ]
  },
  {
   "cell_type": "code",
   "execution_count": 25,
   "metadata": {
    "collapsed": true
   },
   "outputs": [],
   "source": [
    "import numpy.random"
   ]
  },
  {
   "cell_type": "code",
   "execution_count": 26,
   "metadata": {
    "collapsed": false
   },
   "outputs": [
    {
     "name": "stdout",
     "output_type": "stream",
     "text": [
      "[ 0.09302847  0.03730934  0.078141    0.10413162  0.09014337  0.0972462\n",
      "  0.03693566  0.06241927  0.13377311  0.01065912  0.10276421  0.15344863]\n",
      "0.5 0.5\n"
     ]
    }
   ],
   "source": [
    "v = np.random.rand(12)\n",
    "v[:6] /= 2 * np.sum(v[:6])\n",
    "v[6:] /= 2 * np.sum(v[6:])\n",
    "print v\n",
    "print np.sum(v[:6]), np.sum(v[6:])"
   ]
  },
  {
   "cell_type": "code",
   "execution_count": 27,
   "metadata": {
    "collapsed": false
   },
   "outputs": [
    {
     "name": "stdout",
     "output_type": "stream",
     "text": [
      "1.0\n"
     ]
    },
    {
     "data": {
      "image/png": "[encoded data removed]",
      "text/plain": [
       "<matplotlib.figure.Figure at 0x7fb6a5ec34d0>"
      ]
     },
     "metadata": {},
     "output_type": "display_data"
    }
   ],
   "source": [
    "# t=0 to 365*80\n",
    "t = np.linspace(0., 365*80*10., 365*80*10)\n",
    "plt.figure(figsize=(12,4));\n",
    "\n",
    "# scipy ode\n",
    "# male == femaleにしないとNが一定にならない\n",
    "#v_mf = np.random.rand(12)\n",
    "#v_mf /= np.sum(v_mf) \n",
    "#v1 = np.random.rand(6)\n",
    "#v2 = np.random.rand(6)\n",
    "#v1 /= 2*np.sum(v1)\n",
    "#v2 /= 2*np.sum(v2)\n",
    "#v_mf = np.r_[v1, v2]\n",
    "v_mf = np.random.rand(12)\n",
    "v_mf[:6] /= 2 * np.sum(v_mf[:6])\n",
    "v_mf[6:] /= 2 * np.sum(v_mf[6:])\n",
    "print np.sum(v_mf)\n",
    "\n",
    "\n",
    "v=spi.odeint(f, v_mf, t, args=(alpha, beta))\n",
    "\n",
    "labels = [\"Male_\" + g for g in genotype] + [\"Female_\" + g for g in genotype]\n",
    "for i in range(len(v[0])):\n",
    "    plt.plot(v[:,i], label=labels[i]);\n",
    "\n",
    "plt.legend();\n",
    "plt.xlim(0, t[-1]);\n",
    "plt.ylim(0, np.max(v));"
   ]
  },
  {
   "cell_type": "code",
   "execution_count": 28,
   "metadata": {
    "collapsed": false
   },
   "outputs": [
    {
     "name": "stdout",
     "output_type": "stream",
     "text": [
      "(292000,)\n",
      "(292000,)\n"
     ]
    }
   ],
   "source": [
    "print v[:,0].shape\n",
    "print t.shape"
   ]
  },
  {
   "cell_type": "code",
   "execution_count": 29,
   "metadata": {
    "collapsed": false
   },
   "outputs": [
    {
     "data": {
      "image/png": "[encoded data removed]",
      "text/plain": [
       "<matplotlib.figure.Figure at 0x7fb6ad4107d0>"
      ]
     },
     "metadata": {},
     "output_type": "display_data"
    }
   ],
   "source": [
    "# Plot N\n",
    "plt.figure(figsize=(8,4));\n",
    "\n",
    "plt.plot(np.sum(v, axis=1), label=\"N\");\n",
    "\n",
    "plt.legend();\n",
    "plt.xlim(0, t[-1]);\n",
    "plt.ylim(0, 1.1);"
   ]
  },
  {
   "cell_type": "code",
   "execution_count": 30,
   "metadata": {
    "collapsed": false
   },
   "outputs": [
    {
     "name": "stdout",
     "output_type": "stream",
     "text": [
      "(292000, 12) (12, 4) (292000, 4)\n"
     ]
    },
    {
     "data": {
      "image/png": "[encoded data removed]",
      "text/plain": [
       "<matplotlib.figure.Figure at 0x7fb6ad353a10>"
      ]
     },
     "metadata": {},
     "output_type": "display_data"
    }
   ],
   "source": [
    "# 各遺伝子型の割合を各表現型の割合に変換する\n",
    "mask = np.array([np.tile(np.array([1,1,0,0,0,0]), 2),    # A:  AA + AO\n",
    "              np.tile(np.array([0,0,1,1,0,0]), 2),    # B:  BB + BO\n",
    "              np.tile(np.array([0,0,0,0,1,0]), 2),    # O:  OO\n",
    "              np.tile(np.array([0,0,0,0,0,1]), 2)]).T # AB: AB\n",
    "\n",
    "v2 = np.dot(v, mask)\n",
    "print v.shape, mask.shape, v2.shape\n",
    "\n",
    "# t=0 to 365*80\n",
    "t = np.linspace(0., 365*80*10., 365*80*10)\n",
    "plt.figure(figsize=(12,4));\n",
    "\n",
    "la = [\"A\", \"B\", \"O\", \"AB\"]\n",
    "\n",
    "for i in range(len(v2[0])):\n",
    "    plt.plot(v2[:,i], label=la[i]);\n",
    "\n",
    "plt.legend();\n",
    "plt.xlim(0, t[-1]);\n",
    "plt.ylim(0, np.max(v2));"
   ]
  },
  {
   "cell_type": "code",
   "execution_count": 31,
   "metadata": {
    "collapsed": false
   },
   "outputs": [
    {
     "data": {
      "image/png": "[encoded data removed]",
      "text/plain": [
       "<matplotlib.figure.Figure at 0x7fb6d8761e10>"
      ]
     },
     "metadata": {},
     "output_type": "display_data"
    }
   ],
   "source": [
    "t = np.linspace(0., 365*80*10., 365*80*10)\n",
    "plt.figure(figsize=(12,4));\n",
    "plt.subplot(2, 2, 1)\n",
    "for i in range(len(v2[0])):\n",
    "    plt.plot(v2[:,i], label=la[i]);\n",
    "plt.subplot(2, 2, 2)\n",
    "for i in range(len(v2[0])):\n",
    "    plt.plot(v2[:,i], label=la[i]);\n"
   ]
  },
  {
   "cell_type": "markdown",
   "metadata": {
    "collapsed": true
   },
   "source": [
    "### Sympy\n",
    "・xyz = -234\n",
    "\n",
    "・x + y + z = 20\n",
    "\n",
    "・5x – y + 2z = 85\n",
    "\n",
    "を解く例"
   ]
  },
  {
   "cell_type": "code",
   "execution_count": 35,
   "metadata": {
    "collapsed": true
   },
   "outputs": [],
   "source": [
    "from sympy import *\n",
    "from IPython.display import display\n",
    "init_printing()"
   ]
  },
  {
   "cell_type": "code",
   "execution_count": 40,
   "metadata": {
    "collapsed": false
   },
   "outputs": [
    {
     "data": {
      "image/png": "[encoded data removed]",
      "text/latex": [
       "$$\\left ( x, \\quad y, \\quad z\\right )$$"
      ],
      "text/plain": [
       "(x, y, z)"
      ]
     },
     "metadata": {},
     "output_type": "display_data"
    },
    {
     "data": {
      "image/png": "[encoded data removed]",
      "text/latex": [
       "$$x y z + 234$$"
      ],
      "text/plain": [
       "x⋅y⋅z + 234"
      ]
     },
     "metadata": {},
     "output_type": "display_data"
    },
    {
     "data": {
      "image/png": "[encoded data removed]",
      "text/latex": [
       "$$x + y + z - 20$$"
      ],
      "text/plain": [
       "x + y + z - 20"
      ]
     },
     "metadata": {},
     "output_type": "display_data"
    },
    {
     "data": {
      "image/png": "[encoded data removed]",
      "text/latex": [
       "$$5 x - y + 2 z - 85$$"
      ],
      "text/plain": [
       "5⋅x - y + 2⋅z - 85"
      ]
     },
     "metadata": {},
     "output_type": "display_data"
    }
   ],
   "source": [
    "x, y, z = symbols('x y z')\n",
    "display((x, y, z))\n",
    "\n",
    "eq1 = x * y * z + 234\n",
    "eq2 = x + y + z - 20\n",
    "eq3 = 5 * x - y + 2 * z - 85\n",
    "display(eq1, eq2, eq3)"
   ]
  },
  {
   "cell_type": "code",
   "execution_count": 41,
   "metadata": {
    "collapsed": false
   },
   "outputs": [
    {
     "data": {
      "image/png": "[encoded data removed]",
      "text/latex": [
       "$$\\left [ \\left ( 13, \\quad -2, \\quad 9\\right ), \\quad \\left ( - \\frac{9 \\sqrt{17}}{4} + \\frac{39}{4}, \\quad - \\frac{9 \\sqrt{17}}{4} - \\frac{21}{4}, \\quad \\frac{31}{2} + \\frac{9 \\sqrt{17}}{2}\\right ), \\quad \\left ( \\frac{9 \\sqrt{17}}{4} + \\frac{39}{4}, \\quad - \\frac{21}{4} + \\frac{9 \\sqrt{17}}{4}, \\quad - \\frac{9 \\sqrt{17}}{2} + \\frac{31}{2}\\right )\\right ]$$"
      ],
      "text/plain": [
       "⎡             ⎛  9⋅√17   39    9⋅√17   21  31   9⋅√17⎞  ⎛9⋅√17   39    21   9⋅\n",
       "⎢(13, -2, 9), ⎜- ───── + ──, - ───── - ──, ── + ─────⎟, ⎜───── + ──, - ── + ──\n",
       "⎣             ⎝    4     4       4     4   2      2  ⎠  ⎝  4     4     4      \n",
       "\n",
       "√17    9⋅√17   31⎞⎤\n",
       "───, - ───── + ──⎟⎥\n",
       "4        2     2 ⎠⎦"
      ]
     },
     "execution_count": 41,
     "metadata": {},
     "output_type": "execute_result"
    }
   ],
   "source": [
    "solve([eq1, eq2, eq3], [x, y, z])"
   ]
  },
  {
   "cell_type": "code",
   "execution_count": 44,
   "metadata": {
    "collapsed": false
   },
   "outputs": [
    {
     "data": {
      "text/latex": [
       "$$\\left[\\begin{matrix}1 & 2\\\\3 & 4\\end{matrix}\\right]$$"
      ],
      "text/plain": [
       "⎡1  2⎤\n",
       "⎢    ⎥\n",
       "⎣3  4⎦"
      ]
     },
     "execution_count": 44,
     "metadata": {},
     "output_type": "execute_result"
    }
   ],
   "source": [
    "Matrix(np.array([[1,2], [3,4]]))"
   ]
  },
  {
   "cell_type": "code",
   "execution_count": 48,
   "metadata": {
    "collapsed": false
   },
   "outputs": [
    {
     "data": {
      "text/latex": [
       "$$\\left[\\begin{matrix}x & y\\end{matrix}\\right]$$"
      ],
      "text/plain": [
       "[x  y]"
      ]
     },
     "execution_count": 48,
     "metadata": {},
     "output_type": "execute_result"
    }
   ],
   "source": [
    "x, y= symbols('x y')\n",
    "Matrix([x, y]).T"
   ]
  },
  {
   "cell_type": "code",
   "execution_count": 50,
   "metadata": {
    "collapsed": false
   },
   "outputs": [
    {
     "data": {
      "text/latex": [
       "$$\\left[\\begin{matrix}x + 2 y\\\\3 x + 4 y\\end{matrix}\\right]$$"
      ],
      "text/plain": [
       "⎡ x + 2⋅y ⎤\n",
       "⎢         ⎥\n",
       "⎣3⋅x + 4⋅y⎦"
      ]
     },
     "execution_count": 50,
     "metadata": {},
     "output_type": "execute_result"
    }
   ],
   "source": [
    "Matrix(np.array([[1,2], [3,4]])) * Matrix([x, y])"
   ]
  },
  {
   "cell_type": "code",
   "execution_count": 49,
   "metadata": {
    "collapsed": false
   },
   "outputs": [
    {
     "data": {
      "text/latex": [
       "$$\\left[\\begin{matrix}x + 3 y & 2 x + 4 y\\end{matrix}\\right]$$"
      ],
      "text/plain": [
       "[x + 3⋅y  2⋅x + 4⋅y]"
      ]
     },
     "execution_count": 49,
     "metadata": {},
     "output_type": "execute_result"
    }
   ],
   "source": [
    "Matrix([x, y]).T * Matrix(np.array([[1,2], [3,4]]))"
   ]
  },
  {
   "cell_type": "code",
   "execution_count": 55,
   "metadata": {
    "collapsed": false
   },
   "outputs": [
    {
     "data": {
      "text/latex": [
       "$$\\left[\\begin{matrix}x \\left(x + 3 y\\right) + y \\left(2 x + 4 y\\right)\\end{matrix}\\right]$$"
      ],
      "text/plain": [
       "[x⋅(x + 3⋅y) + y⋅(2⋅x + 4⋅y)]"
      ]
     },
     "metadata": {},
     "output_type": "display_data"
    },
    {
     "data": {
      "text/latex": [
       "$$\\left[\\begin{matrix}x^{2} + 5 x y + 4 y^{2}\\end{matrix}\\right]$$"
      ],
      "text/plain": [
       "⎡ 2              2⎤\n",
       "⎣x  + 5⋅x⋅y + 4⋅y ⎦"
      ]
     },
     "metadata": {},
     "output_type": "display_data"
    }
   ],
   "source": [
    "display(         Matrix([x, y]).T * Matrix(np.array([[1,2], [3,4]])) * Matrix([x, y]))\n",
    "display(simplify(Matrix([x, y]).T * Matrix(np.array([[1,2], [3,4]])) * Matrix([x, y])))"
   ]
  },
  {
   "cell_type": "code",
   "execution_count": 59,
   "metadata": {
    "collapsed": false
   },
   "outputs": [
    {
     "data": {
      "text/latex": [
       "$$\\left[\\begin{matrix}x^{2} + 5 x y + 4 y^{2}\\end{matrix}\\right]$$"
      ],
      "text/plain": [
       "⎡ 2              2⎤\n",
       "⎣x  + 5⋅x⋅y + 4⋅y ⎦"
      ]
     },
     "execution_count": 59,
     "metadata": {},
     "output_type": "execute_result"
    }
   ],
   "source": [
    "v = Matrix([x, y])\n",
    "M = Matrix(np.array([[1,2], [3,4]]))\n",
    "simplify(v.T * M * v)"
   ]
  },
  {
   "cell_type": "markdown",
   "metadata": {},
   "source": [
    "- 微分方程式の平衡点が知りたい。時間変化が0となる条件\n",
    "$$\n",
    "\\frac{d n_{XY}^M}{dt} = 0\n",
    "$$\n",
    "\n",
    "$$\n",
    "\\frac{d n_{XY}^F}{dt} = 0\n",
    "$$\n",
    "すなわち\n",
    "$$\n",
    "- \\alpha \\: n_{XY}^M + \\frac{1}{2} \\beta \\: {\\mathbf{v}^M}^T {\\large M_{XY}} \\mathbf{v}^F = 0\n",
    "$$\n",
    "$$\n",
    "- \\alpha \\: n_{XY}^F + \\frac{1}{2} \\beta \\: {\\mathbf{v}^M}^T {\\large M_{XY}} \\mathbf{v}^F = 0\n",
    "$$\n",
    "を解けば良い。展開すると、\n",
    "$$\n",
    "- \\alpha \\: n_{XY}^M + \\beta \\: \\Bigl( \\bigcirc n_{AA}^M n_{AA}^F + \\bigcirc n_{AA}^M n_{AO}^F + ... +  \\bigcirc n_{AB}^M n_{AB}^F \\Bigr) = 0\n",
    "$$\n",
    "$$\n",
    "- \\alpha \\: n_{XY}^F + \\beta \\: \\Bigl( \\bigcirc n_{AA}^M n_{AA}^F + \\bigcirc n_{AA}^M n_{AO}^F + ... +  \\bigcirc n_{AB}^M n_{AB}^F \\Bigr) = 0\n",
    "$$\n",
    "\n",
    "- sympyで解きたいので、上記の式を*や+で表現する"
   ]
  },
  {
   "cell_type": "markdown",
   "metadata": {},
   "source": [
    "> mat_listのk番目は、genotypeのk番目を$XY$として、6次正方行列$M_{XY}$となる。\n",
    "その$(i, j)$ 成分は$genotype [i]$ と $genotype [j]$ の親から\"XY\"の子供が生まれる確率。"
   ]
  },
  {
   "cell_type": "code",
   "execution_count": 60,
   "metadata": {
    "collapsed": true
   },
   "outputs": [],
   "source": [
    "n0, n1, n2, n3, n4, n5, n6, n7, n8, n9, n10, n11 = symbols(\"n0 n1 n2 n3 n4 n5 n6 n7 n8 n9 n10 n11\")"
   ]
  },
  {
   "cell_type": "code",
   "execution_count": 74,
   "metadata": {
    "collapsed": false
   },
   "outputs": [
    {
     "data": {
      "text/latex": [
       "$$\\left[\\begin{matrix}n_{0}\\\\n_{1}\\\\n_{2}\\\\n_{3}\\\\n_{4}\\\\n_{5}\\\\n_{6}\\\\n_{7}\\\\n_{8}\\\\n_{9}\\\\n_{10}\\\\n_{11}\\end{matrix}\\right]$$"
      ],
      "text/plain": [
       "⎡n₀ ⎤\n",
       "⎢   ⎥\n",
       "⎢n₁ ⎥\n",
       "⎢   ⎥\n",
       "⎢n₂ ⎥\n",
       "⎢   ⎥\n",
       "⎢n₃ ⎥\n",
       "⎢   ⎥\n",
       "⎢n₄ ⎥\n",
       "⎢   ⎥\n",
       "⎢n₅ ⎥\n",
       "⎢   ⎥\n",
       "⎢n₆ ⎥\n",
       "⎢   ⎥\n",
       "⎢n₇ ⎥\n",
       "⎢   ⎥\n",
       "⎢n₈ ⎥\n",
       "⎢   ⎥\n",
       "⎢n₉ ⎥\n",
       "⎢   ⎥\n",
       "⎢n₁₀⎥\n",
       "⎢   ⎥\n",
       "⎣n₁₁⎦"
      ]
     },
     "metadata": {},
     "output_type": "display_data"
    },
    {
     "data": {
      "text/latex": [
       "$$\\left[\\begin{matrix}n_{0}\\\\n_{1}\\\\n_{2}\\\\n_{3}\\\\n_{4}\\\\n_{5}\\end{matrix}\\right]$$"
      ],
      "text/plain": [
       "⎡n₀⎤\n",
       "⎢  ⎥\n",
       "⎢n₁⎥\n",
       "⎢  ⎥\n",
       "⎢n₂⎥\n",
       "⎢  ⎥\n",
       "⎢n₃⎥\n",
       "⎢  ⎥\n",
       "⎢n₄⎥\n",
       "⎢  ⎥\n",
       "⎣n₅⎦"
      ]
     },
     "metadata": {},
     "output_type": "display_data"
    },
    {
     "data": {
      "text/latex": [
       "$$\\left[\\begin{matrix}n_{6}\\\\n_{7}\\\\n_{8}\\\\n_{9}\\\\n_{10}\\\\n_{11}\\end{matrix}\\right]$$"
      ],
      "text/plain": [
       "⎡n₆ ⎤\n",
       "⎢   ⎥\n",
       "⎢n₇ ⎥\n",
       "⎢   ⎥\n",
       "⎢n₈ ⎥\n",
       "⎢   ⎥\n",
       "⎢n₉ ⎥\n",
       "⎢   ⎥\n",
       "⎢n₁₀⎥\n",
       "⎢   ⎥\n",
       "⎣n₁₁⎦"
      ]
     },
     "metadata": {},
     "output_type": "display_data"
    }
   ],
   "source": [
    "v = Matrix([n0, n1, n2, n3, n4, n5, n6, n7, n8, n9, n10, n11])\n",
    "display(v)\n",
    "v_m = Matrix(v[:6])\n",
    "v_f = Matrix(v[6:])\n",
    "display(v_m, v_f)"
   ]
  },
  {
   "cell_type": "code",
   "execution_count": 75,
   "metadata": {
    "collapsed": false
   },
   "outputs": [
    {
     "data": {
      "text/latex": [
       "$$\\left[\\begin{matrix}1.0 & 0.5 & 0.0 & 0.0 & 0.0 & 0.5\\\\0.5 & 0.25 & 0.0 & 0.0 & 0.0 & 0.25\\\\0.0 & 0.0 & 0.0 & 0.0 & 0.0 & 0.0\\\\0.0 & 0.0 & 0.0 & 0.0 & 0.0 & 0.0\\\\0.0 & 0.0 & 0.0 & 0.0 & 0.0 & 0.0\\\\0.5 & 0.25 & 0.0 & 0.0 & 0.0 & 0.25\\end{matrix}\\right]$$"
      ],
      "text/plain": [
       "⎡1.0  0.5   0.0  0.0  0.0  0.5 ⎤\n",
       "⎢                              ⎥\n",
       "⎢0.5  0.25  0.0  0.0  0.0  0.25⎥\n",
       "⎢                              ⎥\n",
       "⎢0.0  0.0   0.0  0.0  0.0  0.0 ⎥\n",
       "⎢                              ⎥\n",
       "⎢0.0  0.0   0.0  0.0  0.0  0.0 ⎥\n",
       "⎢                              ⎥\n",
       "⎢0.0  0.0   0.0  0.0  0.0  0.0 ⎥\n",
       "⎢                              ⎥\n",
       "⎣0.5  0.25  0.0  0.0  0.0  0.25⎦"
      ]
     },
     "execution_count": 75,
     "metadata": {},
     "output_type": "execute_result"
    }
   ],
   "source": [
    "Matrix(mat_list[0]) # M_AA"
   ]
  },
  {
   "cell_type": "code",
   "execution_count": 77,
   "metadata": {
    "collapsed": false
   },
   "outputs": [
    {
     "data": {
      "text/latex": [
       "$$\\left[\\begin{matrix}1.0 n_{0} + 0.5 n_{1} + 0.5 n_{5} & 0.5 n_{0} + 0.25 n_{1} + 0.25 n_{5} & 0 & 0 & 0 & 0.5 n_{0} + 0.25 n_{1} + 0.25 n_{5}\\end{matrix}\\right]$$"
      ],
      "text/plain": [
       "[1.0⋅n₀ + 0.5⋅n₁ + 0.5⋅n₅  0.5⋅n₀ + 0.25⋅n₁ + 0.25⋅n₅  0  0  0  0.5⋅n₀ + 0.25⋅\n",
       "n₁ + 0.25⋅n₅]"
      ]
     },
     "execution_count": 77,
     "metadata": {},
     "output_type": "execute_result"
    }
   ],
   "source": [
    "v_m.T * Matrix(mat_list[0])"
   ]
  },
  {
   "cell_type": "code",
   "execution_count": 83,
   "metadata": {
    "collapsed": false
   },
   "outputs": [
    {
     "data": {
      "text/latex": [
       "$$\\left[\\begin{matrix}n_{11} \\left(0.5 n_{0} + 0.25 n_{1} + 0.25 n_{5}\\right) + n_{6} \\left(1.0 n_{0} + 0.5 n_{1} + 0.5 n_{5}\\right) + n_{7} \\left(0.5 n_{0} + 0.25 n_{1} + 0.25 n_{5}\\right)\\end{matrix}\\right]$$"
      ],
      "text/plain": [
       "[n₁₁⋅(0.5⋅n₀ + 0.25⋅n₁ + 0.25⋅n₅) + n₆⋅(1.0⋅n₀ + 0.5⋅n₁ + 0.5⋅n₅) + n₇⋅(0.5⋅n₀\n",
       " + 0.25⋅n₁ + 0.25⋅n₅)]"
      ]
     },
     "metadata": {},
     "output_type": "display_data"
    },
    {
     "data": {
      "text/latex": [
       "$$\\left[\\begin{matrix}n_{11} \\left(0.5 n_{0} + 0.25 n_{1} + 0.25 n_{5}\\right) + n_{6} \\left(1.0 n_{0} + 0.5 n_{1} + 0.5 n_{5}\\right) + n_{7} \\left(0.5 n_{0} + 0.25 n_{1} + 0.25 n_{5}\\right)\\end{matrix}\\right]$$"
      ],
      "text/plain": [
       "[n₁₁⋅(0.5⋅n₀ + 0.25⋅n₁ + 0.25⋅n₅) + n₆⋅(1.0⋅n₀ + 0.5⋅n₁ + 0.5⋅n₅) + n₇⋅(0.5⋅n₀\n",
       " + 0.25⋅n₁ + 0.25⋅n₅)]"
      ]
     },
     "metadata": {},
     "output_type": "display_data"
    }
   ],
   "source": [
    "display(         v_m.T * Matrix(mat_list[0]) * v_f)\n",
    "display(simplify(v_m.T * Matrix(mat_list[0]) * v_f))\n",
    "hoge = v_m.T * Matrix(mat_list[0]) * v_f"
   ]
  },
  {
   "cell_type": "code",
   "execution_count": 89,
   "metadata": {
    "collapsed": false
   },
   "outputs": [
    {
     "data": {
      "image/png": "[encoded data removed]",
      "text/latex": [
       "$$n_{11} \\left(0.5 n_{0} + 0.25 n_{1} + 0.25 n_{5}\\right) + n_{6} \\left(1.0 n_{0} + 0.5 n_{1} + 0.5 n_{5}\\right) + n_{7} \\left(0.5 n_{0} + 0.25 n_{1} + 0.25 n_{5}\\right) + x$$"
      ],
      "text/plain": [
       "n₁₁⋅(0.5⋅n₀ + 0.25⋅n₁ + 0.25⋅n₅) + n₆⋅(1.0⋅n₀ + 0.5⋅n₁ + 0.5⋅n₅) + n₇⋅(0.5⋅n₀ \n",
       "+ 0.25⋅n₁ + 0.25⋅n₅) + x"
      ]
     },
     "execution_count": 89,
     "metadata": {},
     "output_type": "execute_result"
    }
   ],
   "source": [
    "hoge[0] + x"
   ]
  },
  {
   "cell_type": "code",
   "execution_count": 92,
   "metadata": {
    "collapsed": false
   },
   "outputs": [
    {
     "data": {
      "image/png": "[encoded data removed]",
      "text/latex": [
       "$$n_{11} \\left(0.5 n_{0} + 0.25 n_{1} + 0.25 n_{5}\\right) + n_{6} \\left(1.0 n_{0} + 0.5 n_{1} + 0.5 n_{5}\\right) + n_{7} \\left(0.5 n_{0} + 0.25 n_{1} + 0.25 n_{5}\\right)$$"
      ],
      "text/plain": [
       "n₁₁⋅(0.5⋅n₀ + 0.25⋅n₁ + 0.25⋅n₅) + n₆⋅(1.0⋅n₀ + 0.5⋅n₁ + 0.5⋅n₅) + n₇⋅(0.5⋅n₀ \n",
       "+ 0.25⋅n₁ + 0.25⋅n₅)"
      ]
     },
     "execution_count": 92,
     "metadata": {},
     "output_type": "execute_result"
    }
   ],
   "source": [
    "(v_m.T * Matrix(mat_list[0]) * v_f)[0]"
   ]
  },
  {
   "cell_type": "code",
   "execution_count": 81,
   "metadata": {
    "collapsed": true
   },
   "outputs": [],
   "source": [
    "# parameter\n",
    "alpha, beta = symbols(\"alpha, beta\")"
   ]
  },
  {
   "cell_type": "code",
   "execution_count": 82,
   "metadata": {
    "collapsed": false
   },
   "outputs": [
    {
     "data": {
      "image/png": "[encoded data removed]",
      "text/latex": [
       "$$\\frac{1}{2}$$"
      ],
      "text/plain": [
       "1/2"
      ]
     },
     "execution_count": 82,
     "metadata": {},
     "output_type": "execute_result"
    }
   ],
   "source": [
    "S(1)/2"
   ]
  },
  {
   "cell_type": "code",
   "execution_count": 95,
   "metadata": {
    "collapsed": false
   },
   "outputs": [
    {
     "data": {
      "image/png": "[encoded data removed]",
      "text/latex": [
       "$$- \\alpha n_{0} + \\frac{\\beta}{2}$$"
      ],
      "text/plain": [
       "        β\n",
       "-α⋅n₀ + ─\n",
       "        2"
      ]
     },
     "execution_count": 95,
     "metadata": {},
     "output_type": "execute_result"
    }
   ],
   "source": [
    "- alpha * n0 + S(1)/2 * beta"
   ]
  },
  {
   "cell_type": "code",
   "execution_count": 103,
   "metadata": {
    "collapsed": false
   },
   "outputs": [
    {
     "data": {
      "text/latex": [
       "$$\\left[\\begin{matrix}n_{11} \\left(0.5 n_{0} + 0.25 n_{1} + 0.25 n_{5}\\right) + n_{6} \\left(1.0 n_{0} + 0.5 n_{1} + 0.5 n_{5}\\right) + n_{7} \\left(0.5 n_{0} + 0.25 n_{1} + 0.25 n_{5}\\right)\\end{matrix}\\right]$$"
      ],
      "text/plain": [
       "[n₁₁⋅(0.5⋅n₀ + 0.25⋅n₁ + 0.25⋅n₅) + n₆⋅(1.0⋅n₀ + 0.5⋅n₁ + 0.5⋅n₅) + n₇⋅(0.5⋅n₀\n",
       " + 0.25⋅n₁ + 0.25⋅n₅)]"
      ]
     },
     "metadata": {},
     "output_type": "display_data"
    },
    {
     "data": {
      "image/png": "[encoded data removed]",
      "text/latex": [
       "$$- \\alpha n_{0} + \\frac{\\beta}{2} \\left(n_{11} \\left(0.5 n_{0} + 0.25 n_{1} + 0.25 n_{5}\\right) + n_{6} \\left(1.0 n_{0} + 0.5 n_{1} + 0.5 n_{5}\\right) + n_{7} \\left(0.5 n_{0} + 0.25 n_{1} + 0.25 n_{5}\\right)\\right)$$"
      ],
      "text/plain": [
       "        β⋅(n₁₁⋅(0.5⋅n₀ + 0.25⋅n₁ + 0.25⋅n₅) + n₆⋅(1.0⋅n₀ + 0.5⋅n₁ + 0.5⋅n₅) + \n",
       "-α⋅n₀ + ──────────────────────────────────────────────────────────────────────\n",
       "                                                          2                   \n",
       "\n",
       "n₇⋅(0.5⋅n₀ + 0.25⋅n₁ + 0.25⋅n₅))\n",
       "────────────────────────────────\n",
       "                                "
      ]
     },
     "metadata": {},
     "output_type": "display_data"
    }
   ],
   "source": [
    "q1 = v_m.T * Matrix(mat_list[0]) * v_f\n",
    "display(q1)\n",
    "e1 = - alpha * n0 + S(1)/2 * beta * q1[0]\n",
    "display(e1)"
   ]
  },
  {
   "cell_type": "code",
   "execution_count": 104,
   "metadata": {
    "collapsed": false
   },
   "outputs": [
    {
     "data": {
      "image/png": "[encoded data removed]",
      "text/latex": [
       "$$- \\alpha n_{0} + \\frac{\\beta}{2} \\left(n_{11} \\left(0.5 n_{0} + 0.25 n_{1} + 0.25 n_{5}\\right) + n_{6} \\left(1.0 n_{0} + 0.5 n_{1} + 0.5 n_{5}\\right) + n_{7} \\left(0.5 n_{0} + 0.25 n_{1} + 0.25 n_{5}\\right)\\right)$$"
      ],
      "text/plain": [
       "        β⋅(n₁₁⋅(0.5⋅n₀ + 0.25⋅n₁ + 0.25⋅n₅) + n₆⋅(1.0⋅n₀ + 0.5⋅n₁ + 0.5⋅n₅) + \n",
       "-α⋅n₀ + ──────────────────────────────────────────────────────────────────────\n",
       "                                                          2                   \n",
       "\n",
       "n₇⋅(0.5⋅n₀ + 0.25⋅n₁ + 0.25⋅n₅))\n",
       "────────────────────────────────\n",
       "                                "
      ]
     },
     "metadata": {},
     "output_type": "display_data"
    }
   ],
   "source": [
    "e1 = - alpha * n0 + S(1)/2 * beta * (v_m.T * Matrix(mat_list[0]) * v_f)[0]\n",
    "display(e1)"
   ]
  },
  {
   "cell_type": "code",
   "execution_count": 105,
   "metadata": {
    "collapsed": false
   },
   "outputs": [
    {
     "data": {
      "text/plain": [
       "sympy.core.add.Add"
      ]
     },
     "execution_count": 105,
     "metadata": {},
     "output_type": "execute_result"
    }
   ],
   "source": [
    "type(e1)"
   ]
  },
  {
   "cell_type": "code",
   "execution_count": 110,
   "metadata": {
    "collapsed": false
   },
   "outputs": [
    {
     "name": "stdout",
     "output_type": "stream",
     "text": [
      "0 n0\n",
      "1 n1\n",
      "2 n2\n",
      "3 n3\n",
      "4 n4\n",
      "5 n5\n",
      "0 n6\n",
      "1 n7\n",
      "2 n8\n",
      "3 n9\n",
      "4 n10\n",
      "5 n11\n"
     ]
    }
   ],
   "source": [
    "for i, n in enumerate(v):\n",
    "    print i%6, n"
   ]
  },
  {
   "cell_type": "code",
   "execution_count": 109,
   "metadata": {
    "collapsed": false
   },
   "outputs": [
    {
     "data": {
      "image/png": "[encoded data removed]",
      "text/latex": [
       "$$\\left ( 6, \\quad 6, \\quad 6\\right )$$"
      ],
      "text/plain": [
       "(6, 6, 6)"
      ]
     },
     "execution_count": 109,
     "metadata": {},
     "output_type": "execute_result"
    }
   ],
   "source": [
    "mat_list.shape"
   ]
  },
  {
   "cell_type": "code",
   "execution_count": 112,
   "metadata": {
    "collapsed": false
   },
   "outputs": [],
   "source": [
    "e_list = []\n",
    "for i, n in enumerate(v):\n",
    "    expr = - alpha * n + S(1)/2 * beta * (v_m.T * Matrix(mat_list[i%6]) * v_f)[0]\n",
    "    e_list.append(expr)"
   ]
  },
  {
   "cell_type": "code",
   "execution_count": 114,
   "metadata": {
    "collapsed": false,
    "scrolled": false
   },
   "outputs": [
    {
     "data": {
      "image/png": "[encoded data removed]",
      "text/latex": [
       "$$- \\alpha n_{0} + \\frac{\\beta}{2} \\left(n_{11} \\left(0.5 n_{0} + 0.25 n_{1} + 0.25 n_{5}\\right) + n_{6} \\left(1.0 n_{0} + 0.5 n_{1} + 0.5 n_{5}\\right) + n_{7} \\left(0.5 n_{0} + 0.25 n_{1} + 0.25 n_{5}\\right)\\right)$$"
      ],
      "text/plain": [
       "        β⋅(n₁₁⋅(0.5⋅n₀ + 0.25⋅n₁ + 0.25⋅n₅) + n₆⋅(1.0⋅n₀ + 0.5⋅n₁ + 0.5⋅n₅) + \n",
       "-α⋅n₀ + ──────────────────────────────────────────────────────────────────────\n",
       "                                                          2                   \n",
       "\n",
       "n₇⋅(0.5⋅n₀ + 0.25⋅n₁ + 0.25⋅n₅))\n",
       "────────────────────────────────\n",
       "                                "
      ]
     },
     "metadata": {},
     "output_type": "display_data"
    },
    {
     "name": "stdout",
     "output_type": "stream",
     "text": [
      "\n"
     ]
    },
    {
     "data": {
      "image/png": "[encoded data removed]",
      "text/latex": [
       "$$- \\alpha n_{1} + \\frac{\\beta}{2} \\left(n_{10} \\left(1.0 n_{0} + 0.5 n_{1} + 0.5 n_{5}\\right) + n_{11} \\left(0.25 n_{1} + 0.25 n_{3} + 0.5 n_{4}\\right) + n_{6} \\left(0.5 n_{1} + 0.5 n_{3} + 1.0 n_{4}\\right) + n_{7} \\left(0.5 n_{0} + 0.5 n_{1} + 0.25 n_{3} + 0.5 n_{4} + 0.25 n_{5}\\right) + n_{9} \\left(0.5 n_{0} + 0.25 n_{1} + 0.25 n_{5}\\right)\\right)$$"
      ],
      "text/plain": [
       "        β⋅(n₁₀⋅(1.0⋅n₀ + 0.5⋅n₁ + 0.5⋅n₅) + n₁₁⋅(0.25⋅n₁ + 0.25⋅n₃ + 0.5⋅n₄) +\n",
       "-α⋅n₁ + ──────────────────────────────────────────────────────────────────────\n",
       "                                                                              \n",
       "\n",
       " n₆⋅(0.5⋅n₁ + 0.5⋅n₃ + 1.0⋅n₄) + n₇⋅(0.5⋅n₀ + 0.5⋅n₁ + 0.25⋅n₃ + 0.5⋅n₄ + 0.25\n",
       "──────────────────────────────────────────────────────────────────────────────\n",
       "                       2                                                      \n",
       "\n",
       "⋅n₅) + n₉⋅(0.5⋅n₀ + 0.25⋅n₁ + 0.25⋅n₅))\n",
       "───────────────────────────────────────\n",
       "                                       "
      ]
     },
     "metadata": {},
     "output_type": "display_data"
    },
    {
     "name": "stdout",
     "output_type": "stream",
     "text": [
      "\n"
     ]
    },
    {
     "data": {
      "image/png": "[encoded data removed]",
      "text/latex": [
       "$$- \\alpha n_{2} + \\frac{\\beta}{2} \\left(n_{11} \\left(0.5 n_{2} + 0.25 n_{3} + 0.25 n_{5}\\right) + n_{8} \\left(1.0 n_{2} + 0.5 n_{3} + 0.5 n_{5}\\right) + n_{9} \\left(0.5 n_{2} + 0.25 n_{3} + 0.25 n_{5}\\right)\\right)$$"
      ],
      "text/plain": [
       "        β⋅(n₁₁⋅(0.5⋅n₂ + 0.25⋅n₃ + 0.25⋅n₅) + n₈⋅(1.0⋅n₂ + 0.5⋅n₃ + 0.5⋅n₅) + \n",
       "-α⋅n₂ + ──────────────────────────────────────────────────────────────────────\n",
       "                                                          2                   \n",
       "\n",
       "n₉⋅(0.5⋅n₂ + 0.25⋅n₃ + 0.25⋅n₅))\n",
       "────────────────────────────────\n",
       "                                "
      ]
     },
     "metadata": {},
     "output_type": "display_data"
    },
    {
     "name": "stdout",
     "output_type": "stream",
     "text": [
      "\n"
     ]
    },
    {
     "data": {
      "image/png": "[encoded data removed]",
      "text/latex": [
       "$$- \\alpha n_{3} + \\frac{\\beta}{2} \\left(n_{10} \\left(1.0 n_{2} + 0.5 n_{3} + 0.5 n_{5}\\right) + n_{11} \\left(0.25 n_{1} + 0.25 n_{3} + 0.5 n_{4}\\right) + n_{7} \\left(0.5 n_{2} + 0.25 n_{3} + 0.25 n_{5}\\right) + n_{8} \\left(0.5 n_{1} + 0.5 n_{3} + 1.0 n_{4}\\right) + n_{9} \\left(0.25 n_{1} + 0.5 n_{2} + 0.5 n_{3} + 0.5 n_{4} + 0.25 n_{5}\\right)\\right)$$"
      ],
      "text/plain": [
       "        β⋅(n₁₀⋅(1.0⋅n₂ + 0.5⋅n₃ + 0.5⋅n₅) + n₁₁⋅(0.25⋅n₁ + 0.25⋅n₃ + 0.5⋅n₄) +\n",
       "-α⋅n₃ + ──────────────────────────────────────────────────────────────────────\n",
       "                                                                              \n",
       "\n",
       " n₇⋅(0.5⋅n₂ + 0.25⋅n₃ + 0.25⋅n₅) + n₈⋅(0.5⋅n₁ + 0.5⋅n₃ + 1.0⋅n₄) + n₉⋅(0.25⋅n₁\n",
       "──────────────────────────────────────────────────────────────────────────────\n",
       "                       2                                                      \n",
       "\n",
       " + 0.5⋅n₂ + 0.5⋅n₃ + 0.5⋅n₄ + 0.25⋅n₅))\n",
       "───────────────────────────────────────\n",
       "                                       "
      ]
     },
     "metadata": {},
     "output_type": "display_data"
    },
    {
     "name": "stdout",
     "output_type": "stream",
     "text": [
      "\n"
     ]
    },
    {
     "data": {
      "image/png": "[encoded data removed]",
      "text/latex": [
       "$$- \\alpha n_{4} + \\frac{\\beta}{2} \\left(n_{10} \\left(0.5 n_{1} + 0.5 n_{3} + 1.0 n_{4}\\right) + n_{7} \\left(0.25 n_{1} + 0.25 n_{3} + 0.5 n_{4}\\right) + n_{9} \\left(0.25 n_{1} + 0.25 n_{3} + 0.5 n_{4}\\right)\\right)$$"
      ],
      "text/plain": [
       "        β⋅(n₁₀⋅(0.5⋅n₁ + 0.5⋅n₃ + 1.0⋅n₄) + n₇⋅(0.25⋅n₁ + 0.25⋅n₃ + 0.5⋅n₄) + \n",
       "-α⋅n₄ + ──────────────────────────────────────────────────────────────────────\n",
       "                                                          2                   \n",
       "\n",
       "n₉⋅(0.25⋅n₁ + 0.25⋅n₃ + 0.5⋅n₄))\n",
       "────────────────────────────────\n",
       "                                "
      ]
     },
     "metadata": {},
     "output_type": "display_data"
    },
    {
     "name": "stdout",
     "output_type": "stream",
     "text": [
      "\n"
     ]
    },
    {
     "data": {
      "image/png": "[encoded data removed]",
      "text/latex": [
       "$$- \\alpha n_{5} + \\frac{\\beta}{2} \\left(n_{11} \\left(0.5 n_{0} + 0.25 n_{1} + 0.5 n_{2} + 0.25 n_{3} + 0.5 n_{5}\\right) + n_{6} \\left(1.0 n_{2} + 0.5 n_{3} + 0.5 n_{5}\\right) + n_{7} \\left(0.5 n_{2} + 0.25 n_{3} + 0.25 n_{5}\\right) + n_{8} \\left(1.0 n_{0} + 0.5 n_{1} + 0.5 n_{5}\\right) + n_{9} \\left(0.5 n_{0} + 0.25 n_{1} + 0.25 n_{5}\\right)\\right)$$"
      ],
      "text/plain": [
       "        β⋅(n₁₁⋅(0.5⋅n₀ + 0.25⋅n₁ + 0.5⋅n₂ + 0.25⋅n₃ + 0.5⋅n₅) + n₆⋅(1.0⋅n₂ + 0\n",
       "-α⋅n₅ + ──────────────────────────────────────────────────────────────────────\n",
       "                                                                              \n",
       "\n",
       ".5⋅n₃ + 0.5⋅n₅) + n₇⋅(0.5⋅n₂ + 0.25⋅n₃ + 0.25⋅n₅) + n₈⋅(1.0⋅n₀ + 0.5⋅n₁ + 0.5⋅\n",
       "──────────────────────────────────────────────────────────────────────────────\n",
       "                      2                                                       \n",
       "\n",
       "n₅) + n₉⋅(0.5⋅n₀ + 0.25⋅n₁ + 0.25⋅n₅))\n",
       "──────────────────────────────────────\n",
       "                                      "
      ]
     },
     "metadata": {},
     "output_type": "display_data"
    },
    {
     "name": "stdout",
     "output_type": "stream",
     "text": [
      "\n"
     ]
    },
    {
     "data": {
      "image/png": "[encoded data removed]",
      "text/latex": [
       "$$- \\alpha n_{6} + \\frac{\\beta}{2} \\left(n_{11} \\left(0.5 n_{0} + 0.25 n_{1} + 0.25 n_{5}\\right) + n_{6} \\left(1.0 n_{0} + 0.5 n_{1} + 0.5 n_{5}\\right) + n_{7} \\left(0.5 n_{0} + 0.25 n_{1} + 0.25 n_{5}\\right)\\right)$$"
      ],
      "text/plain": [
       "        β⋅(n₁₁⋅(0.5⋅n₀ + 0.25⋅n₁ + 0.25⋅n₅) + n₆⋅(1.0⋅n₀ + 0.5⋅n₁ + 0.5⋅n₅) + \n",
       "-α⋅n₆ + ──────────────────────────────────────────────────────────────────────\n",
       "                                                          2                   \n",
       "\n",
       "n₇⋅(0.5⋅n₀ + 0.25⋅n₁ + 0.25⋅n₅))\n",
       "────────────────────────────────\n",
       "                                "
      ]
     },
     "metadata": {},
     "output_type": "display_data"
    },
    {
     "name": "stdout",
     "output_type": "stream",
     "text": [
      "\n"
     ]
    },
    {
     "data": {
      "image/png": "[encoded data removed]",
      "text/latex": [
       "$$- \\alpha n_{7} + \\frac{\\beta}{2} \\left(n_{10} \\left(1.0 n_{0} + 0.5 n_{1} + 0.5 n_{5}\\right) + n_{11} \\left(0.25 n_{1} + 0.25 n_{3} + 0.5 n_{4}\\right) + n_{6} \\left(0.5 n_{1} + 0.5 n_{3} + 1.0 n_{4}\\right) + n_{7} \\left(0.5 n_{0} + 0.5 n_{1} + 0.25 n_{3} + 0.5 n_{4} + 0.25 n_{5}\\right) + n_{9} \\left(0.5 n_{0} + 0.25 n_{1} + 0.25 n_{5}\\right)\\right)$$"
      ],
      "text/plain": [
       "        β⋅(n₁₀⋅(1.0⋅n₀ + 0.5⋅n₁ + 0.5⋅n₅) + n₁₁⋅(0.25⋅n₁ + 0.25⋅n₃ + 0.5⋅n₄) +\n",
       "-α⋅n₇ + ──────────────────────────────────────────────────────────────────────\n",
       "                                                                              \n",
       "\n",
       " n₆⋅(0.5⋅n₁ + 0.5⋅n₃ + 1.0⋅n₄) + n₇⋅(0.5⋅n₀ + 0.5⋅n₁ + 0.25⋅n₃ + 0.5⋅n₄ + 0.25\n",
       "──────────────────────────────────────────────────────────────────────────────\n",
       "                       2                                                      \n",
       "\n",
       "⋅n₅) + n₉⋅(0.5⋅n₀ + 0.25⋅n₁ + 0.25⋅n₅))\n",
       "───────────────────────────────────────\n",
       "                                       "
      ]
     },
     "metadata": {},
     "output_type": "display_data"
    },
    {
     "name": "stdout",
     "output_type": "stream",
     "text": [
      "\n"
     ]
    },
    {
     "data": {
      "image/png": "[encoded data removed]",
      "text/latex": [
       "$$- \\alpha n_{8} + \\frac{\\beta}{2} \\left(n_{11} \\left(0.5 n_{2} + 0.25 n_{3} + 0.25 n_{5}\\right) + n_{8} \\left(1.0 n_{2} + 0.5 n_{3} + 0.5 n_{5}\\right) + n_{9} \\left(0.5 n_{2} + 0.25 n_{3} + 0.25 n_{5}\\right)\\right)$$"
      ],
      "text/plain": [
       "        β⋅(n₁₁⋅(0.5⋅n₂ + 0.25⋅n₃ + 0.25⋅n₅) + n₈⋅(1.0⋅n₂ + 0.5⋅n₃ + 0.5⋅n₅) + \n",
       "-α⋅n₈ + ──────────────────────────────────────────────────────────────────────\n",
       "                                                          2                   \n",
       "\n",
       "n₉⋅(0.5⋅n₂ + 0.25⋅n₃ + 0.25⋅n₅))\n",
       "────────────────────────────────\n",
       "                                "
      ]
     },
     "metadata": {},
     "output_type": "display_data"
    },
    {
     "name": "stdout",
     "output_type": "stream",
     "text": [
      "\n"
     ]
    },
    {
     "data": {
      "image/png": "[encoded data removed]",
      "text/latex": [
       "$$- \\alpha n_{9} + \\frac{\\beta}{2} \\left(n_{10} \\left(1.0 n_{2} + 0.5 n_{3} + 0.5 n_{5}\\right) + n_{11} \\left(0.25 n_{1} + 0.25 n_{3} + 0.5 n_{4}\\right) + n_{7} \\left(0.5 n_{2} + 0.25 n_{3} + 0.25 n_{5}\\right) + n_{8} \\left(0.5 n_{1} + 0.5 n_{3} + 1.0 n_{4}\\right) + n_{9} \\left(0.25 n_{1} + 0.5 n_{2} + 0.5 n_{3} + 0.5 n_{4} + 0.25 n_{5}\\right)\\right)$$"
      ],
      "text/plain": [
       "        β⋅(n₁₀⋅(1.0⋅n₂ + 0.5⋅n₃ + 0.5⋅n₅) + n₁₁⋅(0.25⋅n₁ + 0.25⋅n₃ + 0.5⋅n₄) +\n",
       "-α⋅n₉ + ──────────────────────────────────────────────────────────────────────\n",
       "                                                                              \n",
       "\n",
       " n₇⋅(0.5⋅n₂ + 0.25⋅n₃ + 0.25⋅n₅) + n₈⋅(0.5⋅n₁ + 0.5⋅n₃ + 1.0⋅n₄) + n₉⋅(0.25⋅n₁\n",
       "──────────────────────────────────────────────────────────────────────────────\n",
       "                       2                                                      \n",
       "\n",
       " + 0.5⋅n₂ + 0.5⋅n₃ + 0.5⋅n₄ + 0.25⋅n₅))\n",
       "───────────────────────────────────────\n",
       "                                       "
      ]
     },
     "metadata": {},
     "output_type": "display_data"
    },
    {
     "name": "stdout",
     "output_type": "stream",
     "text": [
      "\n"
     ]
    },
    {
     "data": {
      "image/png": "[encoded data removed]",
      "text/latex": [
       "$$- \\alpha n_{10} + \\frac{\\beta}{2} \\left(n_{10} \\left(0.5 n_{1} + 0.5 n_{3} + 1.0 n_{4}\\right) + n_{7} \\left(0.25 n_{1} + 0.25 n_{3} + 0.5 n_{4}\\right) + n_{9} \\left(0.25 n_{1} + 0.25 n_{3} + 0.5 n_{4}\\right)\\right)$$"
      ],
      "text/plain": [
       "         β⋅(n₁₀⋅(0.5⋅n₁ + 0.5⋅n₃ + 1.0⋅n₄) + n₇⋅(0.25⋅n₁ + 0.25⋅n₃ + 0.5⋅n₄) +\n",
       "-α⋅n₁₀ + ─────────────────────────────────────────────────────────────────────\n",
       "                                                           2                  \n",
       "\n",
       " n₉⋅(0.25⋅n₁ + 0.25⋅n₃ + 0.5⋅n₄))\n",
       "─────────────────────────────────\n",
       "                                 "
      ]
     },
     "metadata": {},
     "output_type": "display_data"
    },
    {
     "name": "stdout",
     "output_type": "stream",
     "text": [
      "\n"
     ]
    },
    {
     "data": {
      "image/png": "[encoded data removed]",
      "text/latex": [
       "$$- \\alpha n_{11} + \\frac{\\beta}{2} \\left(n_{11} \\left(0.5 n_{0} + 0.25 n_{1} + 0.5 n_{2} + 0.25 n_{3} + 0.5 n_{5}\\right) + n_{6} \\left(1.0 n_{2} + 0.5 n_{3} + 0.5 n_{5}\\right) + n_{7} \\left(0.5 n_{2} + 0.25 n_{3} + 0.25 n_{5}\\right) + n_{8} \\left(1.0 n_{0} + 0.5 n_{1} + 0.5 n_{5}\\right) + n_{9} \\left(0.5 n_{0} + 0.25 n_{1} + 0.25 n_{5}\\right)\\right)$$"
      ],
      "text/plain": [
       "         β⋅(n₁₁⋅(0.5⋅n₀ + 0.25⋅n₁ + 0.5⋅n₂ + 0.25⋅n₃ + 0.5⋅n₅) + n₆⋅(1.0⋅n₂ + \n",
       "-α⋅n₁₁ + ─────────────────────────────────────────────────────────────────────\n",
       "                                                                              \n",
       "\n",
       "0.5⋅n₃ + 0.5⋅n₅) + n₇⋅(0.5⋅n₂ + 0.25⋅n₃ + 0.25⋅n₅) + n₈⋅(1.0⋅n₀ + 0.5⋅n₁ + 0.5\n",
       "──────────────────────────────────────────────────────────────────────────────\n",
       "                       2                                                      \n",
       "\n",
       "⋅n₅) + n₉⋅(0.5⋅n₀ + 0.25⋅n₁ + 0.25⋅n₅))\n",
       "───────────────────────────────────────\n",
       "                                       "
      ]
     },
     "metadata": {},
     "output_type": "display_data"
    },
    {
     "name": "stdout",
     "output_type": "stream",
     "text": [
      "\n"
     ]
    }
   ],
   "source": [
    "for expr in e_list:\n",
    "    display(expr)\n",
    "    print"
   ]
  },
  {
   "cell_type": "code",
   "execution_count": 115,
   "metadata": {
    "collapsed": false
   },
   "outputs": [
    {
     "ename": "KeyboardInterrupt",
     "evalue": "",
     "output_type": "error",
     "traceback": [
      "\u001b[1;31m---------------------------------------------------------------------------\u001b[0m",
      "\u001b[1;31mKeyboardInterrupt\u001b[0m                         Traceback (most recent call last)",
      "\u001b[1;32m<ipython-input-115-6964693bec0b>\u001b[0m in \u001b[0;36m<module>\u001b[1;34m()\u001b[0m\n\u001b[1;32m----> 1\u001b[1;33m \u001b[0msolve\u001b[0m\u001b[1;33m(\u001b[0m\u001b[0me_list\u001b[0m\u001b[1;33m,\u001b[0m \u001b[1;33m[\u001b[0m\u001b[0mn0\u001b[0m\u001b[1;33m,\u001b[0m \u001b[0mn1\u001b[0m\u001b[1;33m,\u001b[0m \u001b[0mn2\u001b[0m\u001b[1;33m,\u001b[0m \u001b[0mn3\u001b[0m\u001b[1;33m,\u001b[0m \u001b[0mn4\u001b[0m\u001b[1;33m,\u001b[0m \u001b[0mn5\u001b[0m\u001b[1;33m,\u001b[0m \u001b[0mn6\u001b[0m\u001b[1;33m,\u001b[0m \u001b[0mn7\u001b[0m\u001b[1;33m,\u001b[0m \u001b[0mn8\u001b[0m\u001b[1;33m,\u001b[0m \u001b[0mn9\u001b[0m\u001b[1;33m,\u001b[0m \u001b[0mn10\u001b[0m\u001b[1;33m,\u001b[0m \u001b[0mn11\u001b[0m\u001b[1;33m]\u001b[0m\u001b[1;33m)\u001b[0m\u001b[1;33m\u001b[0m\u001b[0m\n\u001b[0m",
      "\u001b[1;32m/usr/local/lib/python2.7/dist-packages/sympy/solvers/solvers.pyc\u001b[0m in \u001b[0;36msolve\u001b[1;34m(f, *symbols, **flags)\u001b[0m\n\u001b[0;32m   1053\u001b[0m         \u001b[0msolution\u001b[0m \u001b[1;33m=\u001b[0m \u001b[0m_solve\u001b[0m\u001b[1;33m(\u001b[0m\u001b[0mf\u001b[0m\u001b[1;33m[\u001b[0m\u001b[1;36m0\u001b[0m\u001b[1;33m]\u001b[0m\u001b[1;33m,\u001b[0m \u001b[1;33m*\u001b[0m\u001b[0msymbols\u001b[0m\u001b[1;33m,\u001b[0m \u001b[1;33m**\u001b[0m\u001b[0mflags\u001b[0m\u001b[1;33m)\u001b[0m\u001b[1;33m\u001b[0m\u001b[0m\n\u001b[0;32m   1054\u001b[0m     \u001b[1;32melse\u001b[0m\u001b[1;33m:\u001b[0m\u001b[1;33m\u001b[0m\u001b[0m\n\u001b[1;32m-> 1055\u001b[1;33m         \u001b[0msolution\u001b[0m \u001b[1;33m=\u001b[0m \u001b[0m_solve_system\u001b[0m\u001b[1;33m(\u001b[0m\u001b[0mf\u001b[0m\u001b[1;33m,\u001b[0m \u001b[0msymbols\u001b[0m\u001b[1;33m,\u001b[0m \u001b[1;33m**\u001b[0m\u001b[0mflags\u001b[0m\u001b[1;33m)\u001b[0m\u001b[1;33m\u001b[0m\u001b[0m\n\u001b[0m\u001b[0;32m   1056\u001b[0m \u001b[1;33m\u001b[0m\u001b[0m\n\u001b[0;32m   1057\u001b[0m     \u001b[1;31m#\u001b[0m\u001b[1;33m\u001b[0m\u001b[1;33m\u001b[0m\u001b[0m\n",
      "\u001b[1;32m/usr/local/lib/python2.7/dist-packages/sympy/solvers/solvers.pyc\u001b[0m in \u001b[0;36m_solve_system\u001b[1;34m(exprs, symbols, **flags)\u001b[0m\n\u001b[0;32m   1774\u001b[0m                 \u001b[1;31m# equation, otherwise we just accept it\u001b[0m\u001b[1;33m\u001b[0m\u001b[1;33m\u001b[0m\u001b[0m\n\u001b[0;32m   1775\u001b[0m                 \u001b[1;32mif\u001b[0m \u001b[0mcheck\u001b[0m \u001b[1;32mand\u001b[0m \u001b[0mr\u001b[0m\u001b[1;33m:\u001b[0m\u001b[1;33m\u001b[0m\u001b[0m\n\u001b[1;32m-> 1776\u001b[1;33m                     \u001b[0mb\u001b[0m \u001b[1;33m=\u001b[0m \u001b[0mchecksol\u001b[0m\u001b[1;33m(\u001b[0m\u001b[0mu\u001b[0m\u001b[1;33m,\u001b[0m \u001b[0mu\u001b[0m\u001b[1;33m,\u001b[0m \u001b[0meq2\u001b[0m\u001b[1;33m,\u001b[0m \u001b[0mminimal\u001b[0m\u001b[1;33m=\u001b[0m\u001b[0mTrue\u001b[0m\u001b[1;33m)\u001b[0m\u001b[1;33m\u001b[0m\u001b[0m\n\u001b[0m\u001b[0;32m   1777\u001b[0m                     \u001b[1;32mif\u001b[0m \u001b[0mb\u001b[0m \u001b[1;32mis\u001b[0m \u001b[1;32mnot\u001b[0m \u001b[0mNone\u001b[0m\u001b[1;33m:\u001b[0m\u001b[1;33m\u001b[0m\u001b[0m\n\u001b[0;32m   1778\u001b[0m                         \u001b[1;31m# this solution is sufficient to know whether\u001b[0m\u001b[1;33m\u001b[0m\u001b[1;33m\u001b[0m\u001b[0m\n",
      "\u001b[1;32m/usr/local/lib/python2.7/dist-packages/sympy/solvers/solvers.pyc\u001b[0m in \u001b[0;36mchecksol\u001b[1;34m(f, symbol, sol, **flags)\u001b[0m\n\u001b[0;32m    229\u001b[0m                 \u001b[1;31m# there are free symbols -- simple expansion might work\u001b[0m\u001b[1;33m\u001b[0m\u001b[1;33m\u001b[0m\u001b[0m\n\u001b[0;32m    230\u001b[0m                 \u001b[0m_\u001b[0m\u001b[1;33m,\u001b[0m \u001b[0mval\u001b[0m \u001b[1;33m=\u001b[0m \u001b[0mval\u001b[0m\u001b[1;33m.\u001b[0m\u001b[0mas_content_primitive\u001b[0m\u001b[1;33m(\u001b[0m\u001b[1;33m)\u001b[0m\u001b[1;33m\u001b[0m\u001b[0m\n\u001b[1;32m--> 231\u001b[1;33m                 \u001b[0mval\u001b[0m \u001b[1;33m=\u001b[0m \u001b[0mexpand_mul\u001b[0m\u001b[1;33m(\u001b[0m\u001b[0mexpand_multinomial\u001b[0m\u001b[1;33m(\u001b[0m\u001b[0mval\u001b[0m\u001b[1;33m)\u001b[0m\u001b[1;33m)\u001b[0m\u001b[1;33m\u001b[0m\u001b[0m\n\u001b[0m\u001b[0;32m    232\u001b[0m         \u001b[1;32melif\u001b[0m \u001b[0mattempt\u001b[0m \u001b[1;33m==\u001b[0m \u001b[1;36m2\u001b[0m\u001b[1;33m:\u001b[0m\u001b[1;33m\u001b[0m\u001b[0m\n\u001b[0;32m    233\u001b[0m             \u001b[1;32mif\u001b[0m \u001b[0mminimal\u001b[0m\u001b[1;33m:\u001b[0m\u001b[1;33m\u001b[0m\u001b[0m\n",
      "\u001b[1;32m/usr/local/lib/python2.7/dist-packages/sympy/core/function.pyc\u001b[0m in \u001b[0;36mexpand_mul\u001b[1;34m(expr, deep)\u001b[0m\n\u001b[0;32m   2055\u001b[0m     \"\"\"\n\u001b[0;32m   2056\u001b[0m     return sympify(expr).expand(deep=deep, mul=True, power_exp=False,\n\u001b[1;32m-> 2057\u001b[1;33m     power_base=False, basic=False, multinomial=False, log=False)\n\u001b[0m\u001b[0;32m   2058\u001b[0m \u001b[1;33m\u001b[0m\u001b[0m\n\u001b[0;32m   2059\u001b[0m \u001b[1;33m\u001b[0m\u001b[0m\n",
      "\u001b[1;32m/usr/local/lib/python2.7/dist-packages/sympy/core/cache.pyc\u001b[0m in \u001b[0;36mwrapper\u001b[1;34m(*args, **kwargs)\u001b[0m\n\u001b[0;32m     91\u001b[0m             \u001b[1;32mdef\u001b[0m \u001b[0mwrapper\u001b[0m\u001b[1;33m(\u001b[0m\u001b[1;33m*\u001b[0m\u001b[0margs\u001b[0m\u001b[1;33m,\u001b[0m \u001b[1;33m**\u001b[0m\u001b[0mkwargs\u001b[0m\u001b[1;33m)\u001b[0m\u001b[1;33m:\u001b[0m\u001b[1;33m\u001b[0m\u001b[0m\n\u001b[0;32m     92\u001b[0m                 \u001b[1;32mtry\u001b[0m\u001b[1;33m:\u001b[0m\u001b[1;33m\u001b[0m\u001b[0m\n\u001b[1;32m---> 93\u001b[1;33m                     \u001b[0mretval\u001b[0m \u001b[1;33m=\u001b[0m \u001b[0mcfunc\u001b[0m\u001b[1;33m(\u001b[0m\u001b[1;33m*\u001b[0m\u001b[0margs\u001b[0m\u001b[1;33m,\u001b[0m \u001b[1;33m**\u001b[0m\u001b[0mkwargs\u001b[0m\u001b[1;33m)\u001b[0m\u001b[1;33m\u001b[0m\u001b[0m\n\u001b[0m\u001b[0;32m     94\u001b[0m                 \u001b[1;32mexcept\u001b[0m \u001b[0mTypeError\u001b[0m\u001b[1;33m:\u001b[0m\u001b[1;33m\u001b[0m\u001b[0m\n\u001b[0;32m     95\u001b[0m                     \u001b[0mretval\u001b[0m \u001b[1;33m=\u001b[0m \u001b[0mfunc\u001b[0m\u001b[1;33m(\u001b[0m\u001b[1;33m*\u001b[0m\u001b[0margs\u001b[0m\u001b[1;33m,\u001b[0m \u001b[1;33m**\u001b[0m\u001b[0mkwargs\u001b[0m\u001b[1;33m)\u001b[0m\u001b[1;33m\u001b[0m\u001b[0m\n",
      "\u001b[1;32m/usr/local/lib/python2.7/dist-packages/sympy/core/compatibility.pyc\u001b[0m in \u001b[0;36mwrapper\u001b[1;34m(*args, **kwds)\u001b[0m\n\u001b[0;32m    897\u001b[0m                         \u001b[0mstats\u001b[0m\u001b[1;33m[\u001b[0m\u001b[0mHITS\u001b[0m\u001b[1;33m]\u001b[0m \u001b[1;33m+=\u001b[0m \u001b[1;36m1\u001b[0m\u001b[1;33m\u001b[0m\u001b[0m\n\u001b[0;32m    898\u001b[0m                         \u001b[1;32mreturn\u001b[0m \u001b[0mresult\u001b[0m\u001b[1;33m\u001b[0m\u001b[0m\n\u001b[1;32m--> 899\u001b[1;33m                 \u001b[0mresult\u001b[0m \u001b[1;33m=\u001b[0m \u001b[0muser_function\u001b[0m\u001b[1;33m(\u001b[0m\u001b[1;33m*\u001b[0m\u001b[0margs\u001b[0m\u001b[1;33m,\u001b[0m \u001b[1;33m**\u001b[0m\u001b[0mkwds\u001b[0m\u001b[1;33m)\u001b[0m\u001b[1;33m\u001b[0m\u001b[0m\n\u001b[0m\u001b[0;32m    900\u001b[0m                 \u001b[1;32mwith\u001b[0m \u001b[0mlock\u001b[0m\u001b[1;33m:\u001b[0m\u001b[1;33m\u001b[0m\u001b[0m\n\u001b[0;32m    901\u001b[0m                     \u001b[0mroot\u001b[0m\u001b[1;33m,\u001b[0m \u001b[1;33m=\u001b[0m \u001b[0mnonlocal_root\u001b[0m\u001b[1;33m\u001b[0m\u001b[0m\n",
      "\u001b[1;32m/usr/local/lib/python2.7/dist-packages/sympy/core/expr.pyc\u001b[0m in \u001b[0;36mexpand\u001b[1;34m(self, deep, modulus, power_base, power_exp, mul, log, multinomial, basic, **hints)\u001b[0m\n\u001b[0;32m   2969\u001b[0m             \u001b[1;32mif\u001b[0m \u001b[0mhints\u001b[0m\u001b[1;33m.\u001b[0m\u001b[0mget\u001b[0m\u001b[1;33m(\u001b[0m\u001b[1;34m'mul'\u001b[0m\u001b[1;33m,\u001b[0m \u001b[0mFalse\u001b[0m\u001b[1;33m)\u001b[0m\u001b[1;33m:\u001b[0m\u001b[1;33m\u001b[0m\u001b[0m\n\u001b[0;32m   2970\u001b[0m                 expr, _ = Expr._expand_hint(\n\u001b[1;32m-> 2971\u001b[1;33m                     expr, '_eval_expand_mul', deep=deep, **hints)\n\u001b[0m\u001b[0;32m   2972\u001b[0m             \u001b[1;32mif\u001b[0m \u001b[0mhints\u001b[0m\u001b[1;33m.\u001b[0m\u001b[0mget\u001b[0m\u001b[1;33m(\u001b[0m\u001b[1;34m'log'\u001b[0m\u001b[1;33m,\u001b[0m \u001b[0mFalse\u001b[0m\u001b[1;33m)\u001b[0m\u001b[1;33m:\u001b[0m\u001b[1;33m\u001b[0m\u001b[0m\n\u001b[0;32m   2973\u001b[0m                 expr, _ = Expr._expand_hint(\n",
      "\u001b[1;32m/usr/local/lib/python2.7/dist-packages/sympy/core/expr.pyc\u001b[0m in \u001b[0;36m_expand_hint\u001b[1;34m(expr, hint, deep, **hints)\u001b[0m\n\u001b[0;32m   2893\u001b[0m             \u001b[0msargs\u001b[0m \u001b[1;33m=\u001b[0m \u001b[1;33m[\u001b[0m\u001b[1;33m]\u001b[0m\u001b[1;33m\u001b[0m\u001b[0m\n\u001b[0;32m   2894\u001b[0m             \u001b[1;32mfor\u001b[0m \u001b[0marg\u001b[0m \u001b[1;32min\u001b[0m \u001b[0mexpr\u001b[0m\u001b[1;33m.\u001b[0m\u001b[0margs\u001b[0m\u001b[1;33m:\u001b[0m\u001b[1;33m\u001b[0m\u001b[0m\n\u001b[1;32m-> 2895\u001b[1;33m                 \u001b[0marg\u001b[0m\u001b[1;33m,\u001b[0m \u001b[0marghit\u001b[0m \u001b[1;33m=\u001b[0m \u001b[0mExpr\u001b[0m\u001b[1;33m.\u001b[0m\u001b[0m_expand_hint\u001b[0m\u001b[1;33m(\u001b[0m\u001b[0marg\u001b[0m\u001b[1;33m,\u001b[0m \u001b[0mhint\u001b[0m\u001b[1;33m,\u001b[0m \u001b[1;33m**\u001b[0m\u001b[0mhints\u001b[0m\u001b[1;33m)\u001b[0m\u001b[1;33m\u001b[0m\u001b[0m\n\u001b[0m\u001b[0;32m   2896\u001b[0m                 \u001b[0mhit\u001b[0m \u001b[1;33m|=\u001b[0m \u001b[0marghit\u001b[0m\u001b[1;33m\u001b[0m\u001b[0m\n\u001b[0;32m   2897\u001b[0m                 \u001b[0msargs\u001b[0m\u001b[1;33m.\u001b[0m\u001b[0mappend\u001b[0m\u001b[1;33m(\u001b[0m\u001b[0marg\u001b[0m\u001b[1;33m)\u001b[0m\u001b[1;33m\u001b[0m\u001b[0m\n",
      "\u001b[1;32m/usr/local/lib/python2.7/dist-packages/sympy/core/expr.pyc\u001b[0m in \u001b[0;36m_expand_hint\u001b[1;34m(expr, hint, deep, **hints)\u001b[0m\n\u001b[0;32m   2893\u001b[0m             \u001b[0msargs\u001b[0m \u001b[1;33m=\u001b[0m \u001b[1;33m[\u001b[0m\u001b[1;33m]\u001b[0m\u001b[1;33m\u001b[0m\u001b[0m\n\u001b[0;32m   2894\u001b[0m             \u001b[1;32mfor\u001b[0m \u001b[0marg\u001b[0m \u001b[1;32min\u001b[0m \u001b[0mexpr\u001b[0m\u001b[1;33m.\u001b[0m\u001b[0margs\u001b[0m\u001b[1;33m:\u001b[0m\u001b[1;33m\u001b[0m\u001b[0m\n\u001b[1;32m-> 2895\u001b[1;33m                 \u001b[0marg\u001b[0m\u001b[1;33m,\u001b[0m \u001b[0marghit\u001b[0m \u001b[1;33m=\u001b[0m \u001b[0mExpr\u001b[0m\u001b[1;33m.\u001b[0m\u001b[0m_expand_hint\u001b[0m\u001b[1;33m(\u001b[0m\u001b[0marg\u001b[0m\u001b[1;33m,\u001b[0m \u001b[0mhint\u001b[0m\u001b[1;33m,\u001b[0m \u001b[1;33m**\u001b[0m\u001b[0mhints\u001b[0m\u001b[1;33m)\u001b[0m\u001b[1;33m\u001b[0m\u001b[0m\n\u001b[0m\u001b[0;32m   2896\u001b[0m                 \u001b[0mhit\u001b[0m \u001b[1;33m|=\u001b[0m \u001b[0marghit\u001b[0m\u001b[1;33m\u001b[0m\u001b[0m\n\u001b[0;32m   2897\u001b[0m                 \u001b[0msargs\u001b[0m\u001b[1;33m.\u001b[0m\u001b[0mappend\u001b[0m\u001b[1;33m(\u001b[0m\u001b[0marg\u001b[0m\u001b[1;33m)\u001b[0m\u001b[1;33m\u001b[0m\u001b[0m\n",
      "\u001b[1;32m/usr/local/lib/python2.7/dist-packages/sympy/core/expr.pyc\u001b[0m in \u001b[0;36m_expand_hint\u001b[1;34m(expr, hint, deep, **hints)\u001b[0m\n\u001b[0;32m   2893\u001b[0m             \u001b[0msargs\u001b[0m \u001b[1;33m=\u001b[0m \u001b[1;33m[\u001b[0m\u001b[1;33m]\u001b[0m\u001b[1;33m\u001b[0m\u001b[0m\n\u001b[0;32m   2894\u001b[0m             \u001b[1;32mfor\u001b[0m \u001b[0marg\u001b[0m \u001b[1;32min\u001b[0m \u001b[0mexpr\u001b[0m\u001b[1;33m.\u001b[0m\u001b[0margs\u001b[0m\u001b[1;33m:\u001b[0m\u001b[1;33m\u001b[0m\u001b[0m\n\u001b[1;32m-> 2895\u001b[1;33m                 \u001b[0marg\u001b[0m\u001b[1;33m,\u001b[0m \u001b[0marghit\u001b[0m \u001b[1;33m=\u001b[0m \u001b[0mExpr\u001b[0m\u001b[1;33m.\u001b[0m\u001b[0m_expand_hint\u001b[0m\u001b[1;33m(\u001b[0m\u001b[0marg\u001b[0m\u001b[1;33m,\u001b[0m \u001b[0mhint\u001b[0m\u001b[1;33m,\u001b[0m \u001b[1;33m**\u001b[0m\u001b[0mhints\u001b[0m\u001b[1;33m)\u001b[0m\u001b[1;33m\u001b[0m\u001b[0m\n\u001b[0m\u001b[0;32m   2896\u001b[0m                 \u001b[0mhit\u001b[0m \u001b[1;33m|=\u001b[0m \u001b[0marghit\u001b[0m\u001b[1;33m\u001b[0m\u001b[0m\n\u001b[0;32m   2897\u001b[0m                 \u001b[0msargs\u001b[0m\u001b[1;33m.\u001b[0m\u001b[0mappend\u001b[0m\u001b[1;33m(\u001b[0m\u001b[0marg\u001b[0m\u001b[1;33m)\u001b[0m\u001b[1;33m\u001b[0m\u001b[0m\n",
      "\u001b[1;32m/usr/local/lib/python2.7/dist-packages/sympy/core/expr.pyc\u001b[0m in \u001b[0;36m_expand_hint\u001b[1;34m(expr, hint, deep, **hints)\u001b[0m\n\u001b[0;32m   2893\u001b[0m             \u001b[0msargs\u001b[0m \u001b[1;33m=\u001b[0m \u001b[1;33m[\u001b[0m\u001b[1;33m]\u001b[0m\u001b[1;33m\u001b[0m\u001b[0m\n\u001b[0;32m   2894\u001b[0m             \u001b[1;32mfor\u001b[0m \u001b[0marg\u001b[0m \u001b[1;32min\u001b[0m \u001b[0mexpr\u001b[0m\u001b[1;33m.\u001b[0m\u001b[0margs\u001b[0m\u001b[1;33m:\u001b[0m\u001b[1;33m\u001b[0m\u001b[0m\n\u001b[1;32m-> 2895\u001b[1;33m                 \u001b[0marg\u001b[0m\u001b[1;33m,\u001b[0m \u001b[0marghit\u001b[0m \u001b[1;33m=\u001b[0m \u001b[0mExpr\u001b[0m\u001b[1;33m.\u001b[0m\u001b[0m_expand_hint\u001b[0m\u001b[1;33m(\u001b[0m\u001b[0marg\u001b[0m\u001b[1;33m,\u001b[0m \u001b[0mhint\u001b[0m\u001b[1;33m,\u001b[0m \u001b[1;33m**\u001b[0m\u001b[0mhints\u001b[0m\u001b[1;33m)\u001b[0m\u001b[1;33m\u001b[0m\u001b[0m\n\u001b[0m\u001b[0;32m   2896\u001b[0m                 \u001b[0mhit\u001b[0m \u001b[1;33m|=\u001b[0m \u001b[0marghit\u001b[0m\u001b[1;33m\u001b[0m\u001b[0m\n\u001b[0;32m   2897\u001b[0m                 \u001b[0msargs\u001b[0m\u001b[1;33m.\u001b[0m\u001b[0mappend\u001b[0m\u001b[1;33m(\u001b[0m\u001b[0marg\u001b[0m\u001b[1;33m)\u001b[0m\u001b[1;33m\u001b[0m\u001b[0m\n",
      "\u001b[1;32m/usr/local/lib/python2.7/dist-packages/sympy/core/expr.pyc\u001b[0m in \u001b[0;36m_expand_hint\u001b[1;34m(expr, hint, deep, **hints)\u001b[0m\n\u001b[0;32m   2893\u001b[0m             \u001b[0msargs\u001b[0m \u001b[1;33m=\u001b[0m \u001b[1;33m[\u001b[0m\u001b[1;33m]\u001b[0m\u001b[1;33m\u001b[0m\u001b[0m\n\u001b[0;32m   2894\u001b[0m             \u001b[1;32mfor\u001b[0m \u001b[0marg\u001b[0m \u001b[1;32min\u001b[0m \u001b[0mexpr\u001b[0m\u001b[1;33m.\u001b[0m\u001b[0margs\u001b[0m\u001b[1;33m:\u001b[0m\u001b[1;33m\u001b[0m\u001b[0m\n\u001b[1;32m-> 2895\u001b[1;33m                 \u001b[0marg\u001b[0m\u001b[1;33m,\u001b[0m \u001b[0marghit\u001b[0m \u001b[1;33m=\u001b[0m \u001b[0mExpr\u001b[0m\u001b[1;33m.\u001b[0m\u001b[0m_expand_hint\u001b[0m\u001b[1;33m(\u001b[0m\u001b[0marg\u001b[0m\u001b[1;33m,\u001b[0m \u001b[0mhint\u001b[0m\u001b[1;33m,\u001b[0m \u001b[1;33m**\u001b[0m\u001b[0mhints\u001b[0m\u001b[1;33m)\u001b[0m\u001b[1;33m\u001b[0m\u001b[0m\n\u001b[0m\u001b[0;32m   2896\u001b[0m                 \u001b[0mhit\u001b[0m \u001b[1;33m|=\u001b[0m \u001b[0marghit\u001b[0m\u001b[1;33m\u001b[0m\u001b[0m\n\u001b[0;32m   2897\u001b[0m                 \u001b[0msargs\u001b[0m\u001b[1;33m.\u001b[0m\u001b[0mappend\u001b[0m\u001b[1;33m(\u001b[0m\u001b[0marg\u001b[0m\u001b[1;33m)\u001b[0m\u001b[1;33m\u001b[0m\u001b[0m\n",
      "\u001b[1;32m/usr/local/lib/python2.7/dist-packages/sympy/core/expr.pyc\u001b[0m in \u001b[0;36m_expand_hint\u001b[1;34m(expr, hint, deep, **hints)\u001b[0m\n\u001b[0;32m   2893\u001b[0m             \u001b[0msargs\u001b[0m \u001b[1;33m=\u001b[0m \u001b[1;33m[\u001b[0m\u001b[1;33m]\u001b[0m\u001b[1;33m\u001b[0m\u001b[0m\n\u001b[0;32m   2894\u001b[0m             \u001b[1;32mfor\u001b[0m \u001b[0marg\u001b[0m \u001b[1;32min\u001b[0m \u001b[0mexpr\u001b[0m\u001b[1;33m.\u001b[0m\u001b[0margs\u001b[0m\u001b[1;33m:\u001b[0m\u001b[1;33m\u001b[0m\u001b[0m\n\u001b[1;32m-> 2895\u001b[1;33m                 \u001b[0marg\u001b[0m\u001b[1;33m,\u001b[0m \u001b[0marghit\u001b[0m \u001b[1;33m=\u001b[0m \u001b[0mExpr\u001b[0m\u001b[1;33m.\u001b[0m\u001b[0m_expand_hint\u001b[0m\u001b[1;33m(\u001b[0m\u001b[0marg\u001b[0m\u001b[1;33m,\u001b[0m \u001b[0mhint\u001b[0m\u001b[1;33m,\u001b[0m \u001b[1;33m**\u001b[0m\u001b[0mhints\u001b[0m\u001b[1;33m)\u001b[0m\u001b[1;33m\u001b[0m\u001b[0m\n\u001b[0m\u001b[0;32m   2896\u001b[0m                 \u001b[0mhit\u001b[0m \u001b[1;33m|=\u001b[0m \u001b[0marghit\u001b[0m\u001b[1;33m\u001b[0m\u001b[0m\n\u001b[0;32m   2897\u001b[0m                 \u001b[0msargs\u001b[0m\u001b[1;33m.\u001b[0m\u001b[0mappend\u001b[0m\u001b[1;33m(\u001b[0m\u001b[0marg\u001b[0m\u001b[1;33m)\u001b[0m\u001b[1;33m\u001b[0m\u001b[0m\n",
      "\u001b[1;32m/usr/local/lib/python2.7/dist-packages/sympy/core/expr.pyc\u001b[0m in \u001b[0;36m_expand_hint\u001b[1;34m(expr, hint, deep, **hints)\u001b[0m\n\u001b[0;32m   2893\u001b[0m             \u001b[0msargs\u001b[0m \u001b[1;33m=\u001b[0m \u001b[1;33m[\u001b[0m\u001b[1;33m]\u001b[0m\u001b[1;33m\u001b[0m\u001b[0m\n\u001b[0;32m   2894\u001b[0m             \u001b[1;32mfor\u001b[0m \u001b[0marg\u001b[0m \u001b[1;32min\u001b[0m \u001b[0mexpr\u001b[0m\u001b[1;33m.\u001b[0m\u001b[0margs\u001b[0m\u001b[1;33m:\u001b[0m\u001b[1;33m\u001b[0m\u001b[0m\n\u001b[1;32m-> 2895\u001b[1;33m                 \u001b[0marg\u001b[0m\u001b[1;33m,\u001b[0m \u001b[0marghit\u001b[0m \u001b[1;33m=\u001b[0m \u001b[0mExpr\u001b[0m\u001b[1;33m.\u001b[0m\u001b[0m_expand_hint\u001b[0m\u001b[1;33m(\u001b[0m\u001b[0marg\u001b[0m\u001b[1;33m,\u001b[0m \u001b[0mhint\u001b[0m\u001b[1;33m,\u001b[0m \u001b[1;33m**\u001b[0m\u001b[0mhints\u001b[0m\u001b[1;33m)\u001b[0m\u001b[1;33m\u001b[0m\u001b[0m\n\u001b[0m\u001b[0;32m   2896\u001b[0m                 \u001b[0mhit\u001b[0m \u001b[1;33m|=\u001b[0m \u001b[0marghit\u001b[0m\u001b[1;33m\u001b[0m\u001b[0m\n\u001b[0;32m   2897\u001b[0m                 \u001b[0msargs\u001b[0m\u001b[1;33m.\u001b[0m\u001b[0mappend\u001b[0m\u001b[1;33m(\u001b[0m\u001b[0marg\u001b[0m\u001b[1;33m)\u001b[0m\u001b[1;33m\u001b[0m\u001b[0m\n",
      "\u001b[1;31mKeyboardInterrupt\u001b[0m: "
     ]
    }
   ],
   "source": [
    "solve(e_list, [n0, n1, n2, n3, n4, n5, n6, n7, n8, n9, n10, n11])"
   ]
  },
  {
   "cell_type": "code",
   "execution_count": null,
   "metadata": {
    "collapsed": true
   },
   "outputs": [],
   "source": []
  },
  {
   "cell_type": "code",
   "execution_count": null,
   "metadata": {
    "collapsed": true
   },
   "outputs": [],
   "source": []
  },
  {
   "cell_type": "code",
   "execution_count": null,
   "metadata": {
    "collapsed": true
   },
   "outputs": [],
   "source": []
  },
  {
   "cell_type": "code",
   "execution_count": null,
   "metadata": {
    "collapsed": true
   },
   "outputs": [],
   "source": []
  },
  {
   "cell_type": "code",
   "execution_count": null,
   "metadata": {
    "collapsed": true
   },
   "outputs": [],
   "source": []
  },
  {
   "cell_type": "code",
   "execution_count": 41,
   "metadata": {
    "collapsed": false
   },
   "outputs": [
    {
     "data": {
      "image/png": "[encoded data removed]",
      "text/latex": [
       "$$\\left ( 6, \\quad 6, \\quad 6\\right )$$"
      ],
      "text/plain": [
       "(6, 6, 6)"
      ]
     },
     "execution_count": 41,
     "metadata": {},
     "output_type": "execute_result"
    }
   ],
   "source": [
    "mat_list.shape"
   ]
  },
  {
   "cell_type": "code",
   "execution_count": 47,
   "metadata": {
    "collapsed": false
   },
   "outputs": [
    {
     "data": {
      "text/plain": [
       "['AA', 'AO', 'BB', 'BO', 'OO', 'AB']"
      ]
     },
     "execution_count": 47,
     "metadata": {},
     "output_type": "execute_result"
    }
   ],
   "source": [
    "genotype"
   ]
  },
  {
   "cell_type": "markdown",
   "metadata": {},
   "source": [
    "xi: genotype[i]のMaleの数$n^M_{XY} (i=0, 1, ..., 5)$\n",
    "\n",
    "xi: genotype[i-6]のFemaleの数$n^F_{XY} (i=6, 7, ..., 11)$"
   ]
  },
  {
   "cell_type": "code",
   "execution_count": 49,
   "metadata": {
    "collapsed": false
   },
   "outputs": [
    {
     "name": "stdout",
     "output_type": "stream",
     "text": [
      "['x0', 'x1', 'x2', 'x3', 'x4', 'x5', 'x6', 'x7', 'x8', 'x9', 'x10', 'x11']\n"
     ]
    }
   ],
   "source": [
    "x_i = [\"x\" + str(i) for i in range(12)]\n",
    "print x_i"
   ]
  },
  {
   "cell_type": "code",
   "execution_count": 52,
   "metadata": {
    "collapsed": false
   },
   "outputs": [
    {
     "name": "stdout",
     "output_type": "stream",
     "text": [
      "144\n",
      "['x0*x0', 'x0*x1', 'x0*x2', 'x0*x3', 'x0*x4', 'x0*x5', 'x0*x6', 'x0*x7', 'x0*x8', 'x0*x9', 'x0*x10', 'x0*x11', 'x1*x0', 'x1*x1', 'x1*x2', 'x1*x3', 'x1*x4', 'x1*x5', 'x1*x6', 'x1*x7', 'x1*x8', 'x1*x9', 'x1*x10', 'x1*x11', 'x2*x0', 'x2*x1', 'x2*x2', 'x2*x3', 'x2*x4', 'x2*x5', 'x2*x6', 'x2*x7', 'x2*x8', 'x2*x9', 'x2*x10', 'x2*x11', 'x3*x0', 'x3*x1', 'x3*x2', 'x3*x3', 'x3*x4', 'x3*x5', 'x3*x6', 'x3*x7', 'x3*x8', 'x3*x9', 'x3*x10', 'x3*x11', 'x4*x0', 'x4*x1', 'x4*x2', 'x4*x3', 'x4*x4', 'x4*x5', 'x4*x6', 'x4*x7', 'x4*x8', 'x4*x9', 'x4*x10', 'x4*x11', 'x5*x0', 'x5*x1', 'x5*x2', 'x5*x3', 'x5*x4', 'x5*x5', 'x5*x6', 'x5*x7', 'x5*x8', 'x5*x9', 'x5*x10', 'x5*x11', 'x6*x0', 'x6*x1', 'x6*x2', 'x6*x3', 'x6*x4', 'x6*x5', 'x6*x6', 'x6*x7', 'x6*x8', 'x6*x9', 'x6*x10', 'x6*x11', 'x7*x0', 'x7*x1', 'x7*x2', 'x7*x3', 'x7*x4', 'x7*x5', 'x7*x6', 'x7*x7', 'x7*x8', 'x7*x9', 'x7*x10', 'x7*x11', 'x8*x0', 'x8*x1', 'x8*x2', 'x8*x3', 'x8*x4', 'x8*x5', 'x8*x6', 'x8*x7', 'x8*x8', 'x8*x9', 'x8*x10', 'x8*x11', 'x9*x0', 'x9*x1', 'x9*x2', 'x9*x3', 'x9*x4', 'x9*x5', 'x9*x6', 'x9*x7', 'x9*x8', 'x9*x9', 'x9*x10', 'x9*x11', 'x10*x0', 'x10*x1', 'x10*x2', 'x10*x3', 'x10*x4', 'x10*x5', 'x10*x6', 'x10*x7', 'x10*x8', 'x10*x9', 'x10*x10', 'x10*x11', 'x11*x0', 'x11*x1', 'x11*x2', 'x11*x3', 'x11*x4', 'x11*x5', 'x11*x6', 'x11*x7', 'x11*x8', 'x11*x9', 'x11*x10', 'x11*x11']\n"
     ]
    }
   ],
   "source": [
    "# dx0/dt = 0\n",
    "mul = [i + \"*\" + j for i in x_i for j in x_i]\n",
    "print len(mul)\n",
    "print mul"
   ]
  },
  {
   "cell_type": "code",
   "execution_count": null,
   "metadata": {
    "collapsed": true
   },
   "outputs": [],
   "source": [
    "mat_list[0]"
   ]
  }
 ],
 "metadata": {
  "kernelspec": {
   "display_name": "Python 2",
   "language": "python",
   "name": "python2"
  },
  "language_info": {
   "codemirror_mode": {
    "name": "ipython",
    "version": 2
   },
   "file_extension": ".py",
   "mimetype": "text/x-python",
   "name": "python",
   "nbconvert_exporter": "python",
   "pygments_lexer": "ipython2",
   "version": "2.7.6"
  },
  "toc": {
   "colors": {
    "hover_highlight": "#DAA520",
    "running_highlight": "#FF0000",
    "selected_highlight": "#FFD700"
   },
   "moveMenuLeft": true,
   "nav_menu": {
    "height": "285px",
    "width": "252px"
   },
   "navigate_menu": true,
   "number_sections": false,
   "sideBar": true,
   "threshold": 4,
   "toc_cell": false,
   "toc_section_display": "block",
   "toc_window_display": false
  },
  "widgets": {
   "state": {},
   "version": "1.0.0"
  }
 },
 "nbformat": 4,
 "nbformat_minor": 0
}
