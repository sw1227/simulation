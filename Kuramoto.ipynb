{
 "cells": [
  {
   "cell_type": "markdown",
   "metadata": {},
   "source": [
    "蔵本モデルのシミュレーション\n",
    "===\n",
    "---\n",
    "ホタルの同期はなぜ生じるのか？\n",
    "\n",
    "相互作用のある非線形振動子集団の同期現象\n",
    "\n",
    "#### 参考\n",
    "- [蔵本モデル - Wikipedia](https://ja.wikipedia.org/wiki/%E8%94%B5%E6%9C%AC%E3%83%A2%E3%83%87%E3%83%AB)\n",
    "- [ストロガッツ 非線形ダイナミクスとカオス](\n",
    "https://www.amazon.co.jp/%E3%82%B9%E3%83%88%E3%83%AD%E3%82%AC%E3%83%83%E3%83%84-%E9%9D%9E%E7%B7%9A%E5%BD%A2%E3%83%80%E3%82%A4%E3%83%8A%E3%83%9F%E3%82%AF%E3%82%B9%E3%81%A8%E3%82%AB%E3%82%AA%E3%82%B9-Steven-H-Strogatz/dp/4621085808\n",
    ") : p115~"
   ]
  },
  {
   "cell_type": "markdown",
   "metadata": {},
   "source": [
    "## 0. 準備"
   ]
  },
  {
   "cell_type": "code",
   "execution_count": null,
   "metadata": {
    "collapsed": true
   },
   "outputs": [],
   "source": [
    "import numpy as np\n",
    "import matplotlib.pyplot as plt\n",
    "%matplotlib inline"
   ]
  },
  {
   "cell_type": "markdown",
   "metadata": {},
   "source": [
    "## 1. ErmentroutとRinzelのモデル(1984)\n",
    "周期刺激を与えられた時のホタル（一匹）の発光リズムに関するモデル。\n",
    "\n",
    "### 1.1. 導出\n",
    "- $\\theta (t)$をホタルの発光リズムの位相とする。外部からの刺激がないとき、ホタルは振動数$\\omega$で発光サイクルを繰り返す。すなわち、\n",
    "$$\n",
    "\\dot{\\theta} = \\omega\n",
    "$$\n",
    "\n",
    "\n",
    "- このホタルに対して周期的な光の刺激を与えた状況を考える。具体的には、周期刺激の位相を$\\Theta$として\n",
    "$$\n",
    "\\dot{\\Theta} = \\Omega\n",
    "$$\n",
    "という刺激を与えたものとする。\n",
    "\n",
    "\n",
    "- 刺激に対するホタルの応答をモデル化する。もし刺激がホタルの発光サイクルに先行していればホタルは同期しようとしてスピードをあげる。逆に、もし発光が刺激に先行してしまっていればホタルは減速する。これを数式で表現すると以下のようになる。\n",
    "$$\n",
    "\\dot{\\theta} = \\omega + A sin(\\Theta - \\theta)\n",
    "$$\n",
    "ここで$A>0$であり、$A$をリセット強度と呼ぶ。ホタルが自らの周期を調整する能力の度合いを表している。"
   ]
  },
  {
   "cell_type": "markdown",
   "metadata": {},
   "source": [
    "### 1.2. 実装"
   ]
  },
  {
   "cell_type": "code",
   "execution_count": null,
   "metadata": {},
   "outputs": [],
   "source": [
    "# parameter\n",
    "omega = 2.0\n",
    "omega_s = 1.5\n",
    "A = 1.0\n",
    "\n",
    "# variable\n",
    "theta = 0\n",
    "theta_s = 0\n",
    "\n",
    "# results\n",
    "theta_list = [theta]\n",
    "theta_s_list = [theta_s]\n",
    "\n",
    "dt = 0.01\n",
    "for step in xrange(1000):\n",
    "    d_theta = omega + A * np.sin(theta_s - theta)\n",
    "    theta += d_theta * dt\n",
    "    theta_s += omega_s * dt\n",
    "    theta_list.append(theta)\n",
    "    theta_s_list.append(theta_s)"
   ]
  },
  {
   "cell_type": "code",
   "execution_count": null,
   "metadata": {
    "collapsed": true
   },
   "outputs": [],
   "source": [
    "# TODO: scipyで微分方程式\n",
    "# TODO: interactiveにするか、複数プロットして分岐を見る"
   ]
  },
  {
   "cell_type": "code",
   "execution_count": null,
   "metadata": {
    "collapsed": true
   },
   "outputs": [],
   "source": [
    "t = np.array(theta_s_list) % (2*np.pi)\n",
    "t2 = np.array(theta_list) % (2*np.pi)"
   ]
  },
  {
   "cell_type": "code",
   "execution_count": null,
   "metadata": {},
   "outputs": [],
   "source": [
    "plt.plot(np.cos(t))\n",
    "plt.plot(np.cos(t2))"
   ]
  },
  {
   "cell_type": "markdown",
   "metadata": {},
   "source": [
    "## 2. 蔵本モデル\n",
    "ErmentroutとRinzelのモデルでは、単一の個体が周期刺激を与えられた時の発光リズムをモデル化していた。\n",
    "\n",
    "ここでは複数の個体が共存している状況を考える。\n",
    "\n",
    "### 2.1. 導出\n",
    "- $i$番目のホタル $(i=1, 2, ..., N)$ の位相を $\\theta_i (t) $とし、外部からの刺激がないときにこの個体は振動数 $\\omega_i$ で発光サイクルを繰り返すものとする。\n",
    "- それぞれの個体は他の個体の平均的な発光状態に影響されて自らの発光サイクルを変化させる。ErmentroutとRinzelのモデルにおける外部刺激の項を「他の個体の発光状態の和」に対応させて置き換えると、以下のように表現することができる。\n",
    "$$\n",
    "\\dot{\\theta_i} = \\omega_i + \\frac{K}{N} \\sum_{j=1}^N sin(\\theta_j - \\theta_i)\n",
    "$$\n",
    "\n",
    "- ErmentroutとRinzelのモデルにおけるリセット強度と同様、$K$はホタルが自らの周期を調整する能力の度合いを表している。\n",
    "\n",
    "#### 2.2. 実装"
   ]
  },
  {
   "cell_type": "code",
   "execution_count": null,
   "metadata": {
    "collapsed": true
   },
   "outputs": [],
   "source": []
  }
 ],
 "metadata": {
  "kernelspec": {
   "display_name": "Python 2",
   "language": "python",
   "name": "python2"
  },
  "language_info": {
   "codemirror_mode": {
    "name": "ipython",
    "version": 2
   },
   "file_extension": ".py",
   "mimetype": "text/x-python",
   "name": "python",
   "nbconvert_exporter": "python",
   "pygments_lexer": "ipython2",
   "version": "2.7.14"
  }
 },
 "nbformat": 4,
 "nbformat_minor": 2
}
