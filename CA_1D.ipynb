{
 "cells": [
  {
   "cell_type": "markdown",
   "metadata": {},
   "source": [
    "1次元セル・オートマトンの実装\n",
    "===\n",
    "---\n",
    "カオスの縁へ"
   ]
  },
  {
   "cell_type": "markdown",
   "metadata": {},
   "source": [
    "## 1. import"
   ]
  },
  {
   "cell_type": "code",
   "execution_count": null,
   "metadata": {
    "collapsed": true
   },
   "outputs": [],
   "source": [
    "import numpy as np\n",
    "import numpy.random as random\n",
    "import matplotlib.pyplot as plt\n",
    "%matplotlib inline"
   ]
  },
  {
   "cell_type": "markdown",
   "metadata": {},
   "source": [
    "## 2. セル・オートマトンの実装\n",
    "### 2.1. クラスを定義"
   ]
  },
  {
   "cell_type": "code",
   "execution_count": null,
   "metadata": {
    "collapsed": true
   },
   "outputs": [],
   "source": [
    "class CellularAutomaton1D():\n",
    "    \"\"\" One-dimensional cellular automaton \"\"\"\n",
    "    \n",
    "    def __init__(self, grid, rule=30):\n",
    "        \"\"\" Constructor\n",
    "        - grid: 各セルの状態を収めたNumpy Array(0: 死, 1: 生)\n",
    "        - rule: 誕生・生存の条件をWolfram codeに基づいて整数で表現したもの\n",
    "        \"\"\"\n",
    "        assert rule in range(256), \"Wolfram code out of range!\"\n",
    "        self.grid = np.int8(grid)  # grid: 各セルの状態(生死)を保持する\n",
    "        self.rule = rule\n",
    "    \n",
    "    def __iter__(self):\n",
    "        \"\"\" イテレータオブジェクトを返す \"\"\"\n",
    "        while True:\n",
    "            yield self.grid\n",
    "            self.update()  # セルの状態を更新\n",
    "\n",
    "    def update(self):\n",
    "        \"\"\" ルールに従って各セルの状態(生死)を更新する \"\"\"\n",
    "        new_grid = np.zeros(self.grid.shape, dtype=np.int8)  # 更新後の状態\n",
    "        # すべてのセルについてループ\n",
    "        for i in range(len(self.grid)):\n",
    "            neighbor_code = 4*self.grid[i-1] + 2*self.grid[i] + self.grid[(i+1)%len(self.grid)]\n",
    "            if (self.rule / 2**neighbor_code) % 2 == 1:\n",
    "                new_grid[i] = 1\n",
    "        self.grid = new_grid"
   ]
  },
  {
   "cell_type": "markdown",
   "metadata": {},
   "source": [
    "### 2.2. 動作確認"
   ]
  },
  {
   "cell_type": "code",
   "execution_count": null,
   "metadata": {},
   "outputs": [],
   "source": [
    "# 初期状態\n",
    "initial_grid = np.zeros(100)\n",
    "initial_grid[50] = 1\n",
    "\n",
    "# セル・オートマトンの定義\n",
    "ca = CellularAutomaton1D(initial_grid, rule=90)\n",
    "\n",
    "# 描画\n",
    "grids = ca.grid\n",
    "for step, grid in zip(range(100), ca):\n",
    "    grids = np.vstack((grids, grid))\n",
    "    \n",
    "fig = plt.figure(figsize=(8, 8))\n",
    "plt.imshow(grids)"
   ]
  },
  {
   "cell_type": "markdown",
   "metadata": {},
   "source": [
    "### 2.3. すべてのルールに基づいたプロット"
   ]
  },
  {
   "cell_type": "code",
   "execution_count": null,
   "metadata": {
    "collapsed": true
   },
   "outputs": [],
   "source": [
    "def show_rule(wolfram_code):\n",
    "    \"\"\" ルールをWolfram code(0-255)で指定すると100x100のarrayで実行結果を返す \"\"\"\n",
    "    initial_grid = np.zeros(100)\n",
    "    initial_grid[50] = 1\n",
    "\n",
    "    # セル・オートマトンの定義\n",
    "    ca = CellularAutomaton1D(initial_grid, rule=wolfram_code)\n",
    "\n",
    "    # 描画\n",
    "    grids = ca.grid\n",
    "    for step, grid in zip(range(100), ca):\n",
    "        grids = np.vstack((grids, grid))\n",
    "    return grids"
   ]
  },
  {
   "cell_type": "code",
   "execution_count": null,
   "metadata": {},
   "outputs": [],
   "source": [
    "fig = plt.figure(figsize=(16, 64))\n",
    "for i in range(256):\n",
    "    ax = fig.add_subplot(32, 8, i+1)\n",
    "    ax.imshow(show_rule(i))\n",
    "    \n",
    "    ax.set_title(\"rule: {}\".format(i))\n",
    "    ax.tick_params(labelbottom=\"off\",bottom=\"off\") # x軸の削除\n",
    "    ax.tick_params(labelleft=\"off\",left=\"off\") # y軸の削除"
   ]
  },
  {
   "cell_type": "code",
   "execution_count": null,
   "metadata": {
    "collapsed": true
   },
   "outputs": [],
   "source": []
  }
 ],
 "metadata": {
  "kernelspec": {
   "display_name": "Python 2",
   "language": "python",
   "name": "python2"
  },
  "language_info": {
   "codemirror_mode": {
    "name": "ipython",
    "version": 2
   },
   "file_extension": ".py",
   "mimetype": "text/x-python",
   "name": "python",
   "nbconvert_exporter": "python",
   "pygments_lexer": "ipython2",
   "version": "2.7.14"
  }
 },
 "nbformat": 4,
 "nbformat_minor": 2
}
