{
 "cells": [
  {
   "cell_type": "markdown",
   "metadata": {},
   "source": [
    "Conway's Game of Life - マクロな視点から\n",
    "===\n",
    "---\n",
    "カオスの縁へ"
   ]
  },
  {
   "cell_type": "markdown",
   "metadata": {},
   "source": [
    "## 1. import"
   ]
  },
  {
   "cell_type": "code",
   "execution_count": 1,
   "metadata": {
    "collapsed": true
   },
   "outputs": [],
   "source": [
    "import numpy as np\n",
    "import numpy.random as random\n",
    "import matplotlib.pyplot as plt\n",
    "%matplotlib inline"
   ]
  },
  {
   "cell_type": "markdown",
   "metadata": {},
   "source": [
    "## 2. ライフゲームの実装\n",
    "### 2.1. クラスを定義"
   ]
  },
  {
   "cell_type": "code",
   "execution_count": 9,
   "metadata": {
    "collapsed": true
   },
   "outputs": [],
   "source": [
    "class GameOfLife():\n",
    "    \"\"\" Conway's Game of Life \"\"\"\n",
    "    \n",
    "    def __init__(self, grid, rule = {\"survival\": [2,3], \"birth\": [3]}):\n",
    "        \"\"\" Constructor\n",
    "        - grid: ライフゲームの初期状態を収めたNumpy Array(0: 死, 1: 生)\n",
    "        - rule: 誕生・生存の条件を定義したdictionary\n",
    "            -> 各セルの8近傍に生きたセルが何個あれば誕生・生存するか\n",
    "        \"\"\"\n",
    "        self.grid = np.int8(grid)  # grid: 各セルの状態(生死)を保持する\n",
    "        self.rule = rule\n",
    "    \n",
    "    def __iter__(self):\n",
    "        \"\"\" イテレータオブジェクトを返す \"\"\"\n",
    "        while True:\n",
    "            yield self.grid\n",
    "            self.update()  # セルの状態を更新\n",
    "\n",
    "    def update(self):\n",
    "        \"\"\" ライフゲームのルールに従って各セルの状態(生死)を更新する \"\"\"\n",
    "        new_grid = np.zeros(self.grid.shape, dtype=np.int8)  # 更新後の状態\n",
    "        n_row, n_col = self.grid.shape\n",
    "        # すべてのセルについてループ\n",
    "        for r in range(n_row):\n",
    "            for c in range(n_col):\n",
    "                neighbors = [(r-1, c-1), (r-1, c), (r-1, c+1), \n",
    "                             (r,   c-1),           (r,   c+1), \n",
    "                             (r+1, c-1), (r+1, c), (r+1, c+1)] # 8近傍のindex\n",
    "                count = sum([self.grid[i%n_row][j%n_col] for (i, j) in neighbors])  # 近傍の「生」の数\n",
    "                if count in self.rule[\"birth\"]:\n",
    "                    new_grid[r][c] = 1  # 誕生\n",
    "                if self.grid[r][c] and (count in self.rule[\"survival\"]):\n",
    "                    new_grid[r][c] = 1  # 生存\n",
    "        self.grid = new_grid\n",
    "\n",
    "    def density(self):\n",
    "        \"\"\" 全セルに対する「生」のセルの割合 \"\"\"\n",
    "        return 1.*np.sum(self.grid) / self.grid.size"
   ]
  },
  {
   "cell_type": "markdown",
   "metadata": {},
   "source": [
    "### 2.2. 動作確認\n",
    "長寿型として知られるR-pentomino（下図）を初期状態として実行してみる\n",
    "<img width=40 src=\"https://upload.wikimedia.org/wikipedia/commons/thumb/1/1c/Game_of_life_fpento.svg/1200px-Game_of_life_fpento.svg.png\" alt=\"Game of life fpento.svg\">"
   ]
  },
  {
   "cell_type": "code",
   "execution_count": 27,
   "metadata": {
    "collapsed": false
   },
   "outputs": [
    {
     "data": {
      "text/plain": [
       "<matplotlib.image.AxesImage at 0x7f80931a8890>"
      ]
     },
     "execution_count": 27,
     "metadata": {},
     "output_type": "execute_result"
    },
    {
     "data": {
      "image/png": "[encoded data removed]",
      "text/plain": [
       "<matplotlib.figure.Figure at 0x7f809328c790>"
      ]
     },
     "metadata": {},
     "output_type": "display_data"
    }
   ],
   "source": [
    "R_pentomino = [(2, 1), (1, 2), (2, 2), (3, 2), (1, 3)]\n",
    "pos_r, pos_c = 10, 5  # offset\n",
    "\n",
    "initial_grid = np.zeros((20, 20))\n",
    "for (i, j) in R_pentomino:\n",
    "    initial_grid[i+pos_r][j+pos_c] = 1\n",
    "\n",
    "# 初期状態をプロット\n",
    "game = GameOfLife(initial_grid)\n",
    "plt.imshow(game.grid)"
   ]
  },
  {
   "cell_type": "code",
   "execution_count": 28,
   "metadata": {
    "collapsed": false
   },
   "outputs": [
    {
     "data": {
      "text/plain": [
       "<matplotlib.image.AxesImage at 0x7f80930e0210>"
      ]
     },
     "execution_count": 28,
     "metadata": {},
     "output_type": "execute_result"
    },
    {
     "data": {
      "image/png": "[encoded data removed]",
      "text/plain": [
       "<matplotlib.figure.Figure at 0x7f8093213a10>"
      ]
     },
     "metadata": {},
     "output_type": "display_data"
    }
   ],
   "source": [
    "# 20step後の状態をプロット\n",
    "game_iter = iter(game)\n",
    "for i in range(20):\n",
    "    grid = next(game_iter)\n",
    "plt.imshow(grid)"
   ]
  },
  {
   "cell_type": "markdown",
   "metadata": {},
   "source": [
    "### 2.3. マクロな傾向\n",
    "$step = 0$ と $step = 1$ での密度（全セルに対する「生」のセルの割合）の変化を調べる"
   ]
  },
  {
   "cell_type": "code",
   "execution_count": 40,
   "metadata": {
    "collapsed": false
   },
   "outputs": [],
   "source": [
    "density_list = []\n",
    "\n",
    "# 初期密度を0から1まで0.01刻みで変化させる\n",
    "for density in np.linspace(0, 1, 101):\n",
    "    life = GameOfLife(random.binomial(1, density, (50, 50)))\n",
    "    life_iter = iter(life)\n",
    "\n",
    "    # step = 0\n",
    "    first = next(life_iter)\n",
    "    d1 = life.density()\n",
    "\n",
    "    # step = 1\n",
    "    second = next(life_iter)\n",
    "    d2 = life.density()\n",
    "\n",
    "    density_list.append((d1, d2))"
   ]
  },
  {
   "cell_type": "code",
   "execution_count": 45,
   "metadata": {
    "collapsed": false
   },
   "outputs": [
    {
     "data": {
      "text/plain": [
       "<matplotlib.text.Text at 0x7f80927502d0>"
      ]
     },
     "execution_count": 45,
     "metadata": {},
     "output_type": "execute_result"
    },
    {
     "data": {
      "image/png": "[encoded data removed]",
      "text/plain": [
       "<matplotlib.figure.Figure at 0x7f809274c250>"
      ]
     },
     "metadata": {},
     "output_type": "display_data"
    }
   ],
   "source": [
    "density_list = np.array(density_list) # cast\n",
    "plt.scatter(density_list[:, 0], density_list[:, 1])\n",
    "plt.xlabel(\"density (step=0)\")\n",
    "plt.ylabel(\"density (step=1)\")"
   ]
  },
  {
   "cell_type": "markdown",
   "metadata": {},
   "source": [
    "memo: 上の曲線の式を求めて, ハフ変換的にパラメータ空間でプロット"
   ]
  },
  {
   "cell_type": "code",
   "execution_count": null,
   "metadata": {
    "collapsed": true
   },
   "outputs": [],
   "source": []
  }
 ],
 "metadata": {
  "kernelspec": {
   "display_name": "Python 2",
   "language": "python",
   "name": "python2"
  },
  "language_info": {
   "codemirror_mode": {
    "name": "ipython",
    "version": 2
   },
   "file_extension": ".py",
   "mimetype": "text/x-python",
   "name": "python",
   "nbconvert_exporter": "python",
   "pygments_lexer": "ipython2",
   "version": "2.7.13"
  }
 },
 "nbformat": 4,
 "nbformat_minor": 2
}
