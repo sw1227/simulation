{
 "cells": [
  {
   "cell_type": "markdown",
   "metadata": {},
   "source": [
    "Conway's Game of Life - マクロな視点から\n",
    "===\n",
    "---\n",
    "カオスの縁へ"
   ]
  },
  {
   "cell_type": "markdown",
   "metadata": {},
   "source": [
    "## 1. import"
   ]
  },
  {
   "cell_type": "code",
   "execution_count": null,
   "metadata": {
    "collapsed": true
   },
   "outputs": [],
   "source": [
    "import itertools\n",
    "import numpy as np\n",
    "import numpy.random as random\n",
    "import matplotlib.pyplot as plt\n",
    "%matplotlib inline"
   ]
  },
  {
   "cell_type": "markdown",
   "metadata": {},
   "source": [
    "## 2. ライフゲームの実装\n",
    "### 2.1. クラスを定義"
   ]
  },
  {
   "cell_type": "code",
   "execution_count": null,
   "metadata": {
    "collapsed": true
   },
   "outputs": [],
   "source": [
    "class GameOfLife():\n",
    "    \"\"\" Conway's Game of Life \"\"\"\n",
    "    \n",
    "    def __init__(self, grid, rule={\"survival\": [2,3], \"birth\": [3]}):\n",
    "        \"\"\" Constructor\n",
    "        - grid: ライフゲームの初期状態を収めたNumpy Array(0: 死, 1: 生)\n",
    "        - rule: 誕生・生存の条件を定義したdictionary\n",
    "            -> 各セルの8近傍に生きたセルが何個あれば誕生・生存するか\n",
    "        \"\"\"\n",
    "        self.grid = np.int8(grid)  # grid: 各セルの状態(生死)を保持する\n",
    "        self.rule = rule\n",
    "    \n",
    "    def __iter__(self):\n",
    "        \"\"\" イテレータオブジェクトを返す \"\"\"\n",
    "        while True:\n",
    "            yield self.grid\n",
    "            self.update()  # セルの状態を更新\n",
    "\n",
    "    def update(self):\n",
    "        \"\"\" ライフゲームのルールに従って各セルの状態(生死)を更新する \"\"\"\n",
    "        new_grid = np.zeros(self.grid.shape, dtype=np.int8)  # 更新後の状態\n",
    "        n_row, n_col = self.grid.shape\n",
    "        # すべてのセルについてループ\n",
    "        for r, c in itertools.product(range(n_row), range(n_col)):\n",
    "            neighbors = [(r-1, c-1), (r-1, c), (r-1, c+1), \n",
    "                         (r,   c-1),           (r,   c+1), \n",
    "                         (r+1, c-1), (r+1, c), (r+1, c+1)] # 8近傍のindex\n",
    "            count = sum([self.grid[i%n_row][j%n_col] for (i, j) in neighbors])  # 近傍の「生」の数\n",
    "            if count in self.rule[\"birth\"]:\n",
    "                new_grid[r][c] = 1  # 誕生\n",
    "            if self.grid[r][c] and (count in self.rule[\"survival\"]):\n",
    "                new_grid[r][c] = 1  # 生存\n",
    "        self.grid = new_grid"
   ]
  },
  {
   "cell_type": "markdown",
   "metadata": {},
   "source": [
    "### 2.2. 動作確認\n",
    "長寿型として知られるR-pentomino（下図）を初期状態として実行してみる\n",
    "<img width=40 src=\"https://upload.wikimedia.org/wikipedia/commons/thumb/1/1c/Game_of_life_fpento.svg/1200px-Game_of_life_fpento.svg.png\" alt=\"Game of life fpento.svg\">"
   ]
  },
  {
   "cell_type": "code",
   "execution_count": null,
   "metadata": {},
   "outputs": [],
   "source": [
    "# R_pentominoの配置\n",
    "R_pentomino = [(2, 1), (1, 2), (2, 2), (3, 2), (1, 3)]\n",
    "pos_r, pos_c = 10, 5  # offset\n",
    "\n",
    "# R_pentominoを配置した初期状態\n",
    "initial_grid = np.zeros((20, 20))\n",
    "for (i, j) in R_pentomino:\n",
    "    initial_grid[i+pos_r][j+pos_c] = 1\n",
    "\n",
    "# ライフゲームの定義\n",
    "game = GameOfLife(initial_grid)\n",
    "\n",
    "# 16step描画\n",
    "fig = plt.figure(figsize=(8, 8))\n",
    "for step, grid in zip(range(16), game):\n",
    "    ax = fig.add_subplot(4, 4, step+1)\n",
    "    ax.imshow(grid)"
   ]
  },
  {
   "cell_type": "code",
   "execution_count": null,
   "metadata": {},
   "outputs": [],
   "source": [
    "# 以下のようにiter, nextを用いてstepを進めることもできる\n",
    "game = GameOfLife(initial_grid)\n",
    "\n",
    "# 16stepの状態をプロット\n",
    "game_iter = iter(game)\n",
    "for i in range(16):\n",
    "    grid = next(game_iter)\n",
    "plt.imshow(grid)"
   ]
  },
  {
   "cell_type": "markdown",
   "metadata": {},
   "source": [
    "### 2.3. マクロな傾向\n",
    "$step = 0$ と $step = 1$ での密度（全セルに対する「生」のセルの割合）の変化を調べる"
   ]
  },
  {
   "cell_type": "code",
   "execution_count": null,
   "metadata": {
    "collapsed": true
   },
   "outputs": [],
   "source": [
    "density_list = []\n",
    "\n",
    "# 初期密度を0から1まで0.01刻みで変化させる\n",
    "for density in np.linspace(0, 1, 101):\n",
    "    game = GameOfLife(random.binomial(1, density, (50, 50)))\n",
    "    \n",
    "    for step, grid in zip(range(2), game):\n",
    "        density_list.append(np.mean(grid))\n",
    "\n",
    "# cast\n",
    "density_list = np.array(density_list)"
   ]
  },
  {
   "cell_type": "code",
   "execution_count": null,
   "metadata": {},
   "outputs": [],
   "source": [
    "# マクロな理論値（後述）\n",
    "def func(x):\n",
    "    return 28. * (x**3) * (1-x)**5 * (3-x)\n",
    "\n",
    "# 実データのプロット\n",
    "plt.scatter(density_list[::2], density_list[1::2], label=\"GameOfLife Data\")\n",
    "# 理論値のプロット\n",
    "plt.plot(density_list[::2], func(density_list[::2]), color=\"orange\", label=\"Macro estimate\")\n",
    "\n",
    "plt.grid()\n",
    "plt.legend(loc=\"upper right\", frameon=False)\n",
    "plt.xlabel(\"density (step=0)\")\n",
    "plt.ylabel(\"density (step=1)\")"
   ]
  },
  {
   "cell_type": "markdown",
   "metadata": {
    "collapsed": true
   },
   "source": [
    "## 3. マクロな挙動\n",
    "ライフゲームの密度（全セルに対する「生」のセルの割合）のみに注目し、密度の時間変化を（近似的に）定式化する。\n",
    "\n",
    "### 3.1. 定義\n",
    "- $t$ : 時刻（離散時間におけるstep）\n",
    "- $N$ : 総セル数（100x100ならN=10,000）\n",
    "- $N_{live}(t), N_{dead}(t)$ : 時刻$t$における「生」「死」それぞれのセルの数（常に$N_{live}(t) + N_{dead} = N$）\n",
    "- $\\rho(t)$ : 時刻$t$における密度（$\\rho(t) = \\frac{N_{live}(t)}{N}$）\n",
    "- $s_{ij}(t)$ : 時刻$t$における、セル$(i, j)$の状態（「生」：1, 「死」: 0とする）\n",
    "- $n_{ij}(t)$ : 時刻$t$における、セル$(i, j)$の周囲8近傍で「生」状態となっているセルの数\n",
    "\n",
    "### 3.2. 導出\n",
    "$\\rho(t)$の時間変化を知りたい。ここで、\n",
    "- ライフゲームの性質より、各セルの状態 $s_{ij}(t+1)$は直前の時刻における自身の状態$s_{ij}(t)$と周囲の状態$n_{ij}(t)$のみに依存する\n",
    "\n",
    "という点に注目すると、$\\rho(t)$から$\\rho(t+1)$への写像（マクロにざっくり見たときの）を導出できる。以下で導出を行う。\n",
    "\n",
    "#### 3.2.1. $P(s_{ij}(t+1)=1)$を$\\rho(t)$から計算\n",
    "セル$(i, j)$の時刻$t+1$における状態は直前の時刻における自身の状態$s_{ij}(t)$と周囲の状態$n_{ij}(t)$のみに依存する。\n",
    "\n",
    "<img width=400 src=\"life_prob.png\"></img>\n",
    "\n",
    "ライフゲームのルールより、\n",
    "\n",
    "$$\n",
    "\\begin{eqnarray}\n",
    "P(s_{ij}(t+1)=1) &=& P(s_{ij}(t+1) = 1 \\:|\\: s_{ij}(t) = 1)P(s_{ij}(t) = 1) + P(s_{ij}(t+1) = 1 \\:|\\: s_{ij}(t) = 0)P(s_{ij}(t) = 0)\\\\\n",
    "&=& P(n_{ij}(t) = 2 \\cup n_{ij}(t) = 3)P(s_{ij}(t) = 1) + P( n_{ij}(t) = 3)P(s_{ij}(t) = 0) \\\\\n",
    "&=& \\bigl[ P(n_{ij}(t) = 2) + P( n_{ij}(t) = 3) \\bigr] P(s_{ij}(t) = 1) + P( n_{ij}(t) = 3)P(s_{ij}(t) = 0) \\:\\:\\:\\:\\: (式A)\n",
    "\\end{eqnarray}\n",
    "$$\n",
    "\n",
    "ここで、$s_{ij}(t)$については密度をもとに\n",
    "\n",
    "$$\n",
    "P(s_{ij}(t) = 1) = \\rho(t)\\\\\n",
    "P(s_{ij}(t) = 0) = 1-\\rho(t)\n",
    "$$\n",
    "\n",
    "と見積もることができる。また、$n_{ij}(t)$についても密度をもとにした二項分布から\n",
    "\n",
    "$$\n",
    "P( n_{ij}(t) = k) = \\binom 8k \\rho(t)^k (1-\\rho(t))^{8-k} \\:\\:\\:\\:\\: (k=0, 1, ..., 8)\n",
    "$$\n",
    "\n",
    "と計算できる。\n",
    "これらを式(A)に代入すると、\n",
    "\n",
    "$$\n",
    "\\begin{eqnarray}\n",
    "P(s_{ij}(t+1)=1) &=& \\biggl[\\binom 82 \\rho(t)^2 (1-\\rho(t))^{6} + \\binom 83 \\rho(t)^3 (1-\\rho(t))^{5} \\biggr] \\rho(t) + \\binom 83 \\rho(t)^3 (1-\\rho(t))^{5}(1-\\rho(t) ) \\\\\n",
    "&=& 28 \\rho(t)^3 (1-\\rho(t))^5 (3-\\rho(t))\n",
    "\\end{eqnarray}\n",
    "$$\n",
    "\n",
    "以上より、\n",
    "\n",
    "$$\n",
    "P(s_{ij}(t+1)=1) = 28 \\rho(t)^3 (1-\\rho(t))^5 (3-\\rho(t))\n",
    "$$\n",
    "\n",
    "となる。\n",
    "\n",
    "#### 3.2.2. $\\rho(t+1)$の導出\n",
    "セル$(i, j)$が時刻$t+1$において「生」である確率は、先述のように\n",
    "\n",
    "$$\n",
    "P(s_{ij}(t+1)=1) = 28 \\rho(t)^3 (1-\\rho(t))^5 (3-\\rho(t))\n",
    "$$\n",
    "\n",
    "で与えられる。従って、$\\rho(t+1)$の期待値は\n",
    "\n",
    "$$\n",
    "E[\\rho(t+1)] = E[\\frac{N_{live}}{N}] = N \\times P(s_{ij}(t+1)=1) \\div N = P(s_{ij}(t+1)=1) = 28 \\rho(t)^3 (1-\\rho(t))^5 (3-\\rho(t))\n",
    "$$\n",
    "\n",
    "これより、$\\rho(t)$の（平均的な）時間発展は写像\n",
    "\n",
    "$$\n",
    "f(x) = 28 x^3 (1-x)^5 (3-x)\n",
    "$$\n",
    "\n",
    "によるものと考えることができる。"
   ]
  },
  {
   "cell_type": "code",
   "execution_count": null,
   "metadata": {},
   "outputs": [],
   "source": []
  }
 ],
 "metadata": {
  "kernelspec": {
   "display_name": "Python 2",
   "language": "python",
   "name": "python2"
  },
  "language_info": {
   "codemirror_mode": {
    "name": "ipython",
    "version": 2
   },
   "file_extension": ".py",
   "mimetype": "text/x-python",
   "name": "python",
   "nbconvert_exporter": "python",
   "pygments_lexer": "ipython2",
   "version": "2.7.14"
  }
 },
 "nbformat": 4,
 "nbformat_minor": 2
}
